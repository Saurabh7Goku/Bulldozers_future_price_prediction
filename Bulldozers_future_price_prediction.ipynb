{
 "cells": [
  {
   "cell_type": "code",
   "execution_count": null,
   "metadata": {
    "id": "SN3EIYth5yxK"
   },
   "outputs": [],
   "source": [
    "import numpy as np\n",
    "import pandas as pd\n",
    "import seaborn as sns\n",
    "import matplotlib.pyplot as plt"
   ]
  },
  {
   "cell_type": "code",
   "execution_count": null,
   "metadata": {
    "id": "eKlJ_Ane59pK"
   },
   "outputs": [],
   "source": [
    "df = pd.read_csv('TrainAndValid.csv', low_memory=False, parse_dates=['saledate'])"
   ]
  },
  {
   "cell_type": "code",
   "execution_count": null,
   "metadata": {
    "colab": {
     "base_uri": "https://localhost:8080/",
     "height": 1381
    },
    "id": "nHNMsXzjBONG",
    "outputId": "c26608cb-7676-4e0e-ff5e-883278d8dd60"
   },
   "outputs": [
    {
     "data": {
      "text/html": [
       "\n",
       "  <div id=\"df-46e7ca01-94d2-4e1d-8eef-58d8370db7c4\">\n",
       "    <div class=\"colab-df-container\">\n",
       "      <div>\n",
       "<style scoped>\n",
       "    .dataframe tbody tr th:only-of-type {\n",
       "        vertical-align: middle;\n",
       "    }\n",
       "\n",
       "    .dataframe tbody tr th {\n",
       "        vertical-align: top;\n",
       "    }\n",
       "\n",
       "    .dataframe thead th {\n",
       "        text-align: right;\n",
       "    }\n",
       "</style>\n",
       "<table border=\"1\" class=\"dataframe\">\n",
       "  <thead>\n",
       "    <tr style=\"text-align: right;\">\n",
       "      <th></th>\n",
       "      <th>0</th>\n",
       "      <th>1</th>\n",
       "      <th>2</th>\n",
       "      <th>3</th>\n",
       "      <th>4</th>\n",
       "    </tr>\n",
       "  </thead>\n",
       "  <tbody>\n",
       "    <tr>\n",
       "      <th>SalesID</th>\n",
       "      <td>1139246</td>\n",
       "      <td>1139248</td>\n",
       "      <td>1139249</td>\n",
       "      <td>1139251</td>\n",
       "      <td>1139253</td>\n",
       "    </tr>\n",
       "    <tr>\n",
       "      <th>SalePrice</th>\n",
       "      <td>66000.0</td>\n",
       "      <td>57000.0</td>\n",
       "      <td>10000.0</td>\n",
       "      <td>38500.0</td>\n",
       "      <td>11000.0</td>\n",
       "    </tr>\n",
       "    <tr>\n",
       "      <th>MachineID</th>\n",
       "      <td>999089</td>\n",
       "      <td>117657</td>\n",
       "      <td>434808</td>\n",
       "      <td>1026470</td>\n",
       "      <td>1057373</td>\n",
       "    </tr>\n",
       "    <tr>\n",
       "      <th>ModelID</th>\n",
       "      <td>3157</td>\n",
       "      <td>77</td>\n",
       "      <td>7009</td>\n",
       "      <td>332</td>\n",
       "      <td>17311</td>\n",
       "    </tr>\n",
       "    <tr>\n",
       "      <th>datasource</th>\n",
       "      <td>121</td>\n",
       "      <td>121</td>\n",
       "      <td>121</td>\n",
       "      <td>121</td>\n",
       "      <td>121</td>\n",
       "    </tr>\n",
       "    <tr>\n",
       "      <th>auctioneerID</th>\n",
       "      <td>3.0</td>\n",
       "      <td>3.0</td>\n",
       "      <td>3.0</td>\n",
       "      <td>3.0</td>\n",
       "      <td>3.0</td>\n",
       "    </tr>\n",
       "    <tr>\n",
       "      <th>YearMade</th>\n",
       "      <td>2004</td>\n",
       "      <td>1996</td>\n",
       "      <td>2001</td>\n",
       "      <td>2001</td>\n",
       "      <td>2007</td>\n",
       "    </tr>\n",
       "    <tr>\n",
       "      <th>MachineHoursCurrentMeter</th>\n",
       "      <td>68.0</td>\n",
       "      <td>4640.0</td>\n",
       "      <td>2838.0</td>\n",
       "      <td>3486.0</td>\n",
       "      <td>722.0</td>\n",
       "    </tr>\n",
       "    <tr>\n",
       "      <th>UsageBand</th>\n",
       "      <td>Low</td>\n",
       "      <td>Low</td>\n",
       "      <td>High</td>\n",
       "      <td>High</td>\n",
       "      <td>Medium</td>\n",
       "    </tr>\n",
       "    <tr>\n",
       "      <th>saledate</th>\n",
       "      <td>2006-11-16 00:00:00</td>\n",
       "      <td>2004-03-26 00:00:00</td>\n",
       "      <td>2004-02-26 00:00:00</td>\n",
       "      <td>2011-05-19 00:00:00</td>\n",
       "      <td>2009-07-23 00:00:00</td>\n",
       "    </tr>\n",
       "    <tr>\n",
       "      <th>fiModelDesc</th>\n",
       "      <td>521D</td>\n",
       "      <td>950FII</td>\n",
       "      <td>226</td>\n",
       "      <td>PC120-6E</td>\n",
       "      <td>S175</td>\n",
       "    </tr>\n",
       "    <tr>\n",
       "      <th>fiBaseModel</th>\n",
       "      <td>521</td>\n",
       "      <td>950</td>\n",
       "      <td>226</td>\n",
       "      <td>PC120</td>\n",
       "      <td>S175</td>\n",
       "    </tr>\n",
       "    <tr>\n",
       "      <th>fiSecondaryDesc</th>\n",
       "      <td>D</td>\n",
       "      <td>F</td>\n",
       "      <td>NaN</td>\n",
       "      <td>NaN</td>\n",
       "      <td>NaN</td>\n",
       "    </tr>\n",
       "    <tr>\n",
       "      <th>fiModelSeries</th>\n",
       "      <td>NaN</td>\n",
       "      <td>II</td>\n",
       "      <td>NaN</td>\n",
       "      <td>-6E</td>\n",
       "      <td>NaN</td>\n",
       "    </tr>\n",
       "    <tr>\n",
       "      <th>fiModelDescriptor</th>\n",
       "      <td>NaN</td>\n",
       "      <td>NaN</td>\n",
       "      <td>NaN</td>\n",
       "      <td>NaN</td>\n",
       "      <td>NaN</td>\n",
       "    </tr>\n",
       "    <tr>\n",
       "      <th>ProductSize</th>\n",
       "      <td>NaN</td>\n",
       "      <td>Medium</td>\n",
       "      <td>NaN</td>\n",
       "      <td>Small</td>\n",
       "      <td>NaN</td>\n",
       "    </tr>\n",
       "    <tr>\n",
       "      <th>fiProductClassDesc</th>\n",
       "      <td>Wheel Loader - 110.0 to 120.0 Horsepower</td>\n",
       "      <td>Wheel Loader - 150.0 to 175.0 Horsepower</td>\n",
       "      <td>Skid Steer Loader - 1351.0 to 1601.0 Lb Operat...</td>\n",
       "      <td>Hydraulic Excavator, Track - 12.0 to 14.0 Metr...</td>\n",
       "      <td>Skid Steer Loader - 1601.0 to 1751.0 Lb Operat...</td>\n",
       "    </tr>\n",
       "    <tr>\n",
       "      <th>state</th>\n",
       "      <td>Alabama</td>\n",
       "      <td>North Carolina</td>\n",
       "      <td>New York</td>\n",
       "      <td>Texas</td>\n",
       "      <td>New York</td>\n",
       "    </tr>\n",
       "    <tr>\n",
       "      <th>ProductGroup</th>\n",
       "      <td>WL</td>\n",
       "      <td>WL</td>\n",
       "      <td>SSL</td>\n",
       "      <td>TEX</td>\n",
       "      <td>SSL</td>\n",
       "    </tr>\n",
       "    <tr>\n",
       "      <th>ProductGroupDesc</th>\n",
       "      <td>Wheel Loader</td>\n",
       "      <td>Wheel Loader</td>\n",
       "      <td>Skid Steer Loaders</td>\n",
       "      <td>Track Excavators</td>\n",
       "      <td>Skid Steer Loaders</td>\n",
       "    </tr>\n",
       "    <tr>\n",
       "      <th>Drive_System</th>\n",
       "      <td>NaN</td>\n",
       "      <td>NaN</td>\n",
       "      <td>NaN</td>\n",
       "      <td>NaN</td>\n",
       "      <td>NaN</td>\n",
       "    </tr>\n",
       "    <tr>\n",
       "      <th>Enclosure</th>\n",
       "      <td>EROPS w AC</td>\n",
       "      <td>EROPS w AC</td>\n",
       "      <td>OROPS</td>\n",
       "      <td>EROPS w AC</td>\n",
       "      <td>EROPS</td>\n",
       "    </tr>\n",
       "    <tr>\n",
       "      <th>Forks</th>\n",
       "      <td>None or Unspecified</td>\n",
       "      <td>None or Unspecified</td>\n",
       "      <td>None or Unspecified</td>\n",
       "      <td>NaN</td>\n",
       "      <td>None or Unspecified</td>\n",
       "    </tr>\n",
       "    <tr>\n",
       "      <th>Pad_Type</th>\n",
       "      <td>NaN</td>\n",
       "      <td>NaN</td>\n",
       "      <td>NaN</td>\n",
       "      <td>NaN</td>\n",
       "      <td>NaN</td>\n",
       "    </tr>\n",
       "    <tr>\n",
       "      <th>Ride_Control</th>\n",
       "      <td>None or Unspecified</td>\n",
       "      <td>None or Unspecified</td>\n",
       "      <td>NaN</td>\n",
       "      <td>NaN</td>\n",
       "      <td>NaN</td>\n",
       "    </tr>\n",
       "    <tr>\n",
       "      <th>Stick</th>\n",
       "      <td>NaN</td>\n",
       "      <td>NaN</td>\n",
       "      <td>NaN</td>\n",
       "      <td>NaN</td>\n",
       "      <td>NaN</td>\n",
       "    </tr>\n",
       "    <tr>\n",
       "      <th>Transmission</th>\n",
       "      <td>NaN</td>\n",
       "      <td>NaN</td>\n",
       "      <td>NaN</td>\n",
       "      <td>NaN</td>\n",
       "      <td>NaN</td>\n",
       "    </tr>\n",
       "    <tr>\n",
       "      <th>Turbocharged</th>\n",
       "      <td>NaN</td>\n",
       "      <td>NaN</td>\n",
       "      <td>NaN</td>\n",
       "      <td>NaN</td>\n",
       "      <td>NaN</td>\n",
       "    </tr>\n",
       "    <tr>\n",
       "      <th>Blade_Extension</th>\n",
       "      <td>NaN</td>\n",
       "      <td>NaN</td>\n",
       "      <td>NaN</td>\n",
       "      <td>NaN</td>\n",
       "      <td>NaN</td>\n",
       "    </tr>\n",
       "    <tr>\n",
       "      <th>Blade_Width</th>\n",
       "      <td>NaN</td>\n",
       "      <td>NaN</td>\n",
       "      <td>NaN</td>\n",
       "      <td>NaN</td>\n",
       "      <td>NaN</td>\n",
       "    </tr>\n",
       "    <tr>\n",
       "      <th>Enclosure_Type</th>\n",
       "      <td>NaN</td>\n",
       "      <td>NaN</td>\n",
       "      <td>NaN</td>\n",
       "      <td>NaN</td>\n",
       "      <td>NaN</td>\n",
       "    </tr>\n",
       "    <tr>\n",
       "      <th>Engine_Horsepower</th>\n",
       "      <td>NaN</td>\n",
       "      <td>NaN</td>\n",
       "      <td>NaN</td>\n",
       "      <td>NaN</td>\n",
       "      <td>NaN</td>\n",
       "    </tr>\n",
       "    <tr>\n",
       "      <th>Hydraulics</th>\n",
       "      <td>2 Valve</td>\n",
       "      <td>2 Valve</td>\n",
       "      <td>Auxiliary</td>\n",
       "      <td>2 Valve</td>\n",
       "      <td>Auxiliary</td>\n",
       "    </tr>\n",
       "    <tr>\n",
       "      <th>Pushblock</th>\n",
       "      <td>NaN</td>\n",
       "      <td>NaN</td>\n",
       "      <td>NaN</td>\n",
       "      <td>NaN</td>\n",
       "      <td>NaN</td>\n",
       "    </tr>\n",
       "    <tr>\n",
       "      <th>Ripper</th>\n",
       "      <td>NaN</td>\n",
       "      <td>NaN</td>\n",
       "      <td>NaN</td>\n",
       "      <td>NaN</td>\n",
       "      <td>NaN</td>\n",
       "    </tr>\n",
       "    <tr>\n",
       "      <th>Scarifier</th>\n",
       "      <td>NaN</td>\n",
       "      <td>NaN</td>\n",
       "      <td>NaN</td>\n",
       "      <td>NaN</td>\n",
       "      <td>NaN</td>\n",
       "    </tr>\n",
       "    <tr>\n",
       "      <th>Tip_Control</th>\n",
       "      <td>NaN</td>\n",
       "      <td>NaN</td>\n",
       "      <td>NaN</td>\n",
       "      <td>NaN</td>\n",
       "      <td>NaN</td>\n",
       "    </tr>\n",
       "    <tr>\n",
       "      <th>Tire_Size</th>\n",
       "      <td>None or Unspecified</td>\n",
       "      <td>23.5</td>\n",
       "      <td>NaN</td>\n",
       "      <td>NaN</td>\n",
       "      <td>NaN</td>\n",
       "    </tr>\n",
       "    <tr>\n",
       "      <th>Coupler</th>\n",
       "      <td>None or Unspecified</td>\n",
       "      <td>None or Unspecified</td>\n",
       "      <td>None or Unspecified</td>\n",
       "      <td>None or Unspecified</td>\n",
       "      <td>None or Unspecified</td>\n",
       "    </tr>\n",
       "    <tr>\n",
       "      <th>Coupler_System</th>\n",
       "      <td>NaN</td>\n",
       "      <td>NaN</td>\n",
       "      <td>None or Unspecified</td>\n",
       "      <td>NaN</td>\n",
       "      <td>None or Unspecified</td>\n",
       "    </tr>\n",
       "    <tr>\n",
       "      <th>Grouser_Tracks</th>\n",
       "      <td>NaN</td>\n",
       "      <td>NaN</td>\n",
       "      <td>None or Unspecified</td>\n",
       "      <td>NaN</td>\n",
       "      <td>None or Unspecified</td>\n",
       "    </tr>\n",
       "    <tr>\n",
       "      <th>Hydraulics_Flow</th>\n",
       "      <td>NaN</td>\n",
       "      <td>NaN</td>\n",
       "      <td>Standard</td>\n",
       "      <td>NaN</td>\n",
       "      <td>Standard</td>\n",
       "    </tr>\n",
       "    <tr>\n",
       "      <th>Track_Type</th>\n",
       "      <td>NaN</td>\n",
       "      <td>NaN</td>\n",
       "      <td>NaN</td>\n",
       "      <td>NaN</td>\n",
       "      <td>NaN</td>\n",
       "    </tr>\n",
       "    <tr>\n",
       "      <th>Undercarriage_Pad_Width</th>\n",
       "      <td>NaN</td>\n",
       "      <td>NaN</td>\n",
       "      <td>NaN</td>\n",
       "      <td>NaN</td>\n",
       "      <td>NaN</td>\n",
       "    </tr>\n",
       "    <tr>\n",
       "      <th>Stick_Length</th>\n",
       "      <td>NaN</td>\n",
       "      <td>NaN</td>\n",
       "      <td>NaN</td>\n",
       "      <td>NaN</td>\n",
       "      <td>NaN</td>\n",
       "    </tr>\n",
       "    <tr>\n",
       "      <th>Thumb</th>\n",
       "      <td>NaN</td>\n",
       "      <td>NaN</td>\n",
       "      <td>NaN</td>\n",
       "      <td>NaN</td>\n",
       "      <td>NaN</td>\n",
       "    </tr>\n",
       "    <tr>\n",
       "      <th>Pattern_Changer</th>\n",
       "      <td>NaN</td>\n",
       "      <td>NaN</td>\n",
       "      <td>NaN</td>\n",
       "      <td>NaN</td>\n",
       "      <td>NaN</td>\n",
       "    </tr>\n",
       "    <tr>\n",
       "      <th>Grouser_Type</th>\n",
       "      <td>NaN</td>\n",
       "      <td>NaN</td>\n",
       "      <td>NaN</td>\n",
       "      <td>NaN</td>\n",
       "      <td>NaN</td>\n",
       "    </tr>\n",
       "    <tr>\n",
       "      <th>Backhoe_Mounting</th>\n",
       "      <td>NaN</td>\n",
       "      <td>NaN</td>\n",
       "      <td>NaN</td>\n",
       "      <td>NaN</td>\n",
       "      <td>NaN</td>\n",
       "    </tr>\n",
       "    <tr>\n",
       "      <th>Blade_Type</th>\n",
       "      <td>NaN</td>\n",
       "      <td>NaN</td>\n",
       "      <td>NaN</td>\n",
       "      <td>NaN</td>\n",
       "      <td>NaN</td>\n",
       "    </tr>\n",
       "    <tr>\n",
       "      <th>Travel_Controls</th>\n",
       "      <td>NaN</td>\n",
       "      <td>NaN</td>\n",
       "      <td>NaN</td>\n",
       "      <td>NaN</td>\n",
       "      <td>NaN</td>\n",
       "    </tr>\n",
       "    <tr>\n",
       "      <th>Differential_Type</th>\n",
       "      <td>Standard</td>\n",
       "      <td>Standard</td>\n",
       "      <td>NaN</td>\n",
       "      <td>NaN</td>\n",
       "      <td>NaN</td>\n",
       "    </tr>\n",
       "    <tr>\n",
       "      <th>Steering_Controls</th>\n",
       "      <td>Conventional</td>\n",
       "      <td>Conventional</td>\n",
       "      <td>NaN</td>\n",
       "      <td>NaN</td>\n",
       "      <td>NaN</td>\n",
       "    </tr>\n",
       "  </tbody>\n",
       "</table>\n",
       "</div>\n",
       "      <button class=\"colab-df-convert\" onclick=\"convertToInteractive('df-46e7ca01-94d2-4e1d-8eef-58d8370db7c4')\"\n",
       "              title=\"Convert this dataframe to an interactive table.\"\n",
       "              style=\"display:none;\">\n",
       "        \n",
       "  <svg xmlns=\"http://www.w3.org/2000/svg\" height=\"24px\"viewBox=\"0 0 24 24\"\n",
       "       width=\"24px\">\n",
       "    <path d=\"M0 0h24v24H0V0z\" fill=\"none\"/>\n",
       "    <path d=\"M18.56 5.44l.94 2.06.94-2.06 2.06-.94-2.06-.94-.94-2.06-.94 2.06-2.06.94zm-11 1L8.5 8.5l.94-2.06 2.06-.94-2.06-.94L8.5 2.5l-.94 2.06-2.06.94zm10 10l.94 2.06.94-2.06 2.06-.94-2.06-.94-.94-2.06-.94 2.06-2.06.94z\"/><path d=\"M17.41 7.96l-1.37-1.37c-.4-.4-.92-.59-1.43-.59-.52 0-1.04.2-1.43.59L10.3 9.45l-7.72 7.72c-.78.78-.78 2.05 0 2.83L4 21.41c.39.39.9.59 1.41.59.51 0 1.02-.2 1.41-.59l7.78-7.78 2.81-2.81c.8-.78.8-2.07 0-2.86zM5.41 20L4 18.59l7.72-7.72 1.47 1.35L5.41 20z\"/>\n",
       "  </svg>\n",
       "      </button>\n",
       "      \n",
       "  <style>\n",
       "    .colab-df-container {\n",
       "      display:flex;\n",
       "      flex-wrap:wrap;\n",
       "      gap: 12px;\n",
       "    }\n",
       "\n",
       "    .colab-df-convert {\n",
       "      background-color: #E8F0FE;\n",
       "      border: none;\n",
       "      border-radius: 50%;\n",
       "      cursor: pointer;\n",
       "      display: none;\n",
       "      fill: #1967D2;\n",
       "      height: 32px;\n",
       "      padding: 0 0 0 0;\n",
       "      width: 32px;\n",
       "    }\n",
       "\n",
       "    .colab-df-convert:hover {\n",
       "      background-color: #E2EBFA;\n",
       "      box-shadow: 0px 1px 2px rgba(60, 64, 67, 0.3), 0px 1px 3px 1px rgba(60, 64, 67, 0.15);\n",
       "      fill: #174EA6;\n",
       "    }\n",
       "\n",
       "    [theme=dark] .colab-df-convert {\n",
       "      background-color: #3B4455;\n",
       "      fill: #D2E3FC;\n",
       "    }\n",
       "\n",
       "    [theme=dark] .colab-df-convert:hover {\n",
       "      background-color: #434B5C;\n",
       "      box-shadow: 0px 1px 3px 1px rgba(0, 0, 0, 0.15);\n",
       "      filter: drop-shadow(0px 1px 2px rgba(0, 0, 0, 0.3));\n",
       "      fill: #FFFFFF;\n",
       "    }\n",
       "  </style>\n",
       "\n",
       "      <script>\n",
       "        const buttonEl =\n",
       "          document.querySelector('#df-46e7ca01-94d2-4e1d-8eef-58d8370db7c4 button.colab-df-convert');\n",
       "        buttonEl.style.display =\n",
       "          google.colab.kernel.accessAllowed ? 'block' : 'none';\n",
       "\n",
       "        async function convertToInteractive(key) {\n",
       "          const element = document.querySelector('#df-46e7ca01-94d2-4e1d-8eef-58d8370db7c4');\n",
       "          const dataTable =\n",
       "            await google.colab.kernel.invokeFunction('convertToInteractive',\n",
       "                                                     [key], {});\n",
       "          if (!dataTable) return;\n",
       "\n",
       "          const docLinkHtml = 'Like what you see? Visit the ' +\n",
       "            '<a target=\"_blank\" href=https://colab.research.google.com/notebooks/data_table.ipynb>data table notebook</a>'\n",
       "            + ' to learn more about interactive tables.';\n",
       "          element.innerHTML = '';\n",
       "          dataTable['output_type'] = 'display_data';\n",
       "          await google.colab.output.renderOutput(dataTable, element);\n",
       "          const docLink = document.createElement('div');\n",
       "          docLink.innerHTML = docLinkHtml;\n",
       "          element.appendChild(docLink);\n",
       "        }\n",
       "      </script>\n",
       "    </div>\n",
       "  </div>\n",
       "  "
      ],
      "text/plain": [
       "                                                                 0  \\\n",
       "SalesID                                                    1139246   \n",
       "SalePrice                                                  66000.0   \n",
       "MachineID                                                   999089   \n",
       "ModelID                                                       3157   \n",
       "datasource                                                     121   \n",
       "auctioneerID                                                   3.0   \n",
       "YearMade                                                      2004   \n",
       "MachineHoursCurrentMeter                                      68.0   \n",
       "UsageBand                                                      Low   \n",
       "saledate                                       2006-11-16 00:00:00   \n",
       "fiModelDesc                                                   521D   \n",
       "fiBaseModel                                                    521   \n",
       "fiSecondaryDesc                                                  D   \n",
       "fiModelSeries                                                  NaN   \n",
       "fiModelDescriptor                                              NaN   \n",
       "ProductSize                                                    NaN   \n",
       "fiProductClassDesc        Wheel Loader - 110.0 to 120.0 Horsepower   \n",
       "state                                                      Alabama   \n",
       "ProductGroup                                                    WL   \n",
       "ProductGroupDesc                                      Wheel Loader   \n",
       "Drive_System                                                   NaN   \n",
       "Enclosure                                               EROPS w AC   \n",
       "Forks                                          None or Unspecified   \n",
       "Pad_Type                                                       NaN   \n",
       "Ride_Control                                   None or Unspecified   \n",
       "Stick                                                          NaN   \n",
       "Transmission                                                   NaN   \n",
       "Turbocharged                                                   NaN   \n",
       "Blade_Extension                                                NaN   \n",
       "Blade_Width                                                    NaN   \n",
       "Enclosure_Type                                                 NaN   \n",
       "Engine_Horsepower                                              NaN   \n",
       "Hydraulics                                                 2 Valve   \n",
       "Pushblock                                                      NaN   \n",
       "Ripper                                                         NaN   \n",
       "Scarifier                                                      NaN   \n",
       "Tip_Control                                                    NaN   \n",
       "Tire_Size                                      None or Unspecified   \n",
       "Coupler                                        None or Unspecified   \n",
       "Coupler_System                                                 NaN   \n",
       "Grouser_Tracks                                                 NaN   \n",
       "Hydraulics_Flow                                                NaN   \n",
       "Track_Type                                                     NaN   \n",
       "Undercarriage_Pad_Width                                        NaN   \n",
       "Stick_Length                                                   NaN   \n",
       "Thumb                                                          NaN   \n",
       "Pattern_Changer                                                NaN   \n",
       "Grouser_Type                                                   NaN   \n",
       "Backhoe_Mounting                                               NaN   \n",
       "Blade_Type                                                     NaN   \n",
       "Travel_Controls                                                NaN   \n",
       "Differential_Type                                         Standard   \n",
       "Steering_Controls                                     Conventional   \n",
       "\n",
       "                                                                 1  \\\n",
       "SalesID                                                    1139248   \n",
       "SalePrice                                                  57000.0   \n",
       "MachineID                                                   117657   \n",
       "ModelID                                                         77   \n",
       "datasource                                                     121   \n",
       "auctioneerID                                                   3.0   \n",
       "YearMade                                                      1996   \n",
       "MachineHoursCurrentMeter                                    4640.0   \n",
       "UsageBand                                                      Low   \n",
       "saledate                                       2004-03-26 00:00:00   \n",
       "fiModelDesc                                                 950FII   \n",
       "fiBaseModel                                                    950   \n",
       "fiSecondaryDesc                                                  F   \n",
       "fiModelSeries                                                   II   \n",
       "fiModelDescriptor                                              NaN   \n",
       "ProductSize                                                 Medium   \n",
       "fiProductClassDesc        Wheel Loader - 150.0 to 175.0 Horsepower   \n",
       "state                                               North Carolina   \n",
       "ProductGroup                                                    WL   \n",
       "ProductGroupDesc                                      Wheel Loader   \n",
       "Drive_System                                                   NaN   \n",
       "Enclosure                                               EROPS w AC   \n",
       "Forks                                          None or Unspecified   \n",
       "Pad_Type                                                       NaN   \n",
       "Ride_Control                                   None or Unspecified   \n",
       "Stick                                                          NaN   \n",
       "Transmission                                                   NaN   \n",
       "Turbocharged                                                   NaN   \n",
       "Blade_Extension                                                NaN   \n",
       "Blade_Width                                                    NaN   \n",
       "Enclosure_Type                                                 NaN   \n",
       "Engine_Horsepower                                              NaN   \n",
       "Hydraulics                                                 2 Valve   \n",
       "Pushblock                                                      NaN   \n",
       "Ripper                                                         NaN   \n",
       "Scarifier                                                      NaN   \n",
       "Tip_Control                                                    NaN   \n",
       "Tire_Size                                                     23.5   \n",
       "Coupler                                        None or Unspecified   \n",
       "Coupler_System                                                 NaN   \n",
       "Grouser_Tracks                                                 NaN   \n",
       "Hydraulics_Flow                                                NaN   \n",
       "Track_Type                                                     NaN   \n",
       "Undercarriage_Pad_Width                                        NaN   \n",
       "Stick_Length                                                   NaN   \n",
       "Thumb                                                          NaN   \n",
       "Pattern_Changer                                                NaN   \n",
       "Grouser_Type                                                   NaN   \n",
       "Backhoe_Mounting                                               NaN   \n",
       "Blade_Type                                                     NaN   \n",
       "Travel_Controls                                                NaN   \n",
       "Differential_Type                                         Standard   \n",
       "Steering_Controls                                     Conventional   \n",
       "\n",
       "                                                                          2  \\\n",
       "SalesID                                                             1139249   \n",
       "SalePrice                                                           10000.0   \n",
       "MachineID                                                            434808   \n",
       "ModelID                                                                7009   \n",
       "datasource                                                              121   \n",
       "auctioneerID                                                            3.0   \n",
       "YearMade                                                               2001   \n",
       "MachineHoursCurrentMeter                                             2838.0   \n",
       "UsageBand                                                              High   \n",
       "saledate                                                2004-02-26 00:00:00   \n",
       "fiModelDesc                                                             226   \n",
       "fiBaseModel                                                             226   \n",
       "fiSecondaryDesc                                                         NaN   \n",
       "fiModelSeries                                                           NaN   \n",
       "fiModelDescriptor                                                       NaN   \n",
       "ProductSize                                                             NaN   \n",
       "fiProductClassDesc        Skid Steer Loader - 1351.0 to 1601.0 Lb Operat...   \n",
       "state                                                              New York   \n",
       "ProductGroup                                                            SSL   \n",
       "ProductGroupDesc                                         Skid Steer Loaders   \n",
       "Drive_System                                                            NaN   \n",
       "Enclosure                                                             OROPS   \n",
       "Forks                                                   None or Unspecified   \n",
       "Pad_Type                                                                NaN   \n",
       "Ride_Control                                                            NaN   \n",
       "Stick                                                                   NaN   \n",
       "Transmission                                                            NaN   \n",
       "Turbocharged                                                            NaN   \n",
       "Blade_Extension                                                         NaN   \n",
       "Blade_Width                                                             NaN   \n",
       "Enclosure_Type                                                          NaN   \n",
       "Engine_Horsepower                                                       NaN   \n",
       "Hydraulics                                                        Auxiliary   \n",
       "Pushblock                                                               NaN   \n",
       "Ripper                                                                  NaN   \n",
       "Scarifier                                                               NaN   \n",
       "Tip_Control                                                             NaN   \n",
       "Tire_Size                                                               NaN   \n",
       "Coupler                                                 None or Unspecified   \n",
       "Coupler_System                                          None or Unspecified   \n",
       "Grouser_Tracks                                          None or Unspecified   \n",
       "Hydraulics_Flow                                                    Standard   \n",
       "Track_Type                                                              NaN   \n",
       "Undercarriage_Pad_Width                                                 NaN   \n",
       "Stick_Length                                                            NaN   \n",
       "Thumb                                                                   NaN   \n",
       "Pattern_Changer                                                         NaN   \n",
       "Grouser_Type                                                            NaN   \n",
       "Backhoe_Mounting                                                        NaN   \n",
       "Blade_Type                                                              NaN   \n",
       "Travel_Controls                                                         NaN   \n",
       "Differential_Type                                                       NaN   \n",
       "Steering_Controls                                                       NaN   \n",
       "\n",
       "                                                                          3  \\\n",
       "SalesID                                                             1139251   \n",
       "SalePrice                                                           38500.0   \n",
       "MachineID                                                           1026470   \n",
       "ModelID                                                                 332   \n",
       "datasource                                                              121   \n",
       "auctioneerID                                                            3.0   \n",
       "YearMade                                                               2001   \n",
       "MachineHoursCurrentMeter                                             3486.0   \n",
       "UsageBand                                                              High   \n",
       "saledate                                                2011-05-19 00:00:00   \n",
       "fiModelDesc                                                        PC120-6E   \n",
       "fiBaseModel                                                           PC120   \n",
       "fiSecondaryDesc                                                         NaN   \n",
       "fiModelSeries                                                           -6E   \n",
       "fiModelDescriptor                                                       NaN   \n",
       "ProductSize                                                           Small   \n",
       "fiProductClassDesc        Hydraulic Excavator, Track - 12.0 to 14.0 Metr...   \n",
       "state                                                                 Texas   \n",
       "ProductGroup                                                            TEX   \n",
       "ProductGroupDesc                                           Track Excavators   \n",
       "Drive_System                                                            NaN   \n",
       "Enclosure                                                        EROPS w AC   \n",
       "Forks                                                                   NaN   \n",
       "Pad_Type                                                                NaN   \n",
       "Ride_Control                                                            NaN   \n",
       "Stick                                                                   NaN   \n",
       "Transmission                                                            NaN   \n",
       "Turbocharged                                                            NaN   \n",
       "Blade_Extension                                                         NaN   \n",
       "Blade_Width                                                             NaN   \n",
       "Enclosure_Type                                                          NaN   \n",
       "Engine_Horsepower                                                       NaN   \n",
       "Hydraulics                                                          2 Valve   \n",
       "Pushblock                                                               NaN   \n",
       "Ripper                                                                  NaN   \n",
       "Scarifier                                                               NaN   \n",
       "Tip_Control                                                             NaN   \n",
       "Tire_Size                                                               NaN   \n",
       "Coupler                                                 None or Unspecified   \n",
       "Coupler_System                                                          NaN   \n",
       "Grouser_Tracks                                                          NaN   \n",
       "Hydraulics_Flow                                                         NaN   \n",
       "Track_Type                                                              NaN   \n",
       "Undercarriage_Pad_Width                                                 NaN   \n",
       "Stick_Length                                                            NaN   \n",
       "Thumb                                                                   NaN   \n",
       "Pattern_Changer                                                         NaN   \n",
       "Grouser_Type                                                            NaN   \n",
       "Backhoe_Mounting                                                        NaN   \n",
       "Blade_Type                                                              NaN   \n",
       "Travel_Controls                                                         NaN   \n",
       "Differential_Type                                                       NaN   \n",
       "Steering_Controls                                                       NaN   \n",
       "\n",
       "                                                                          4  \n",
       "SalesID                                                             1139253  \n",
       "SalePrice                                                           11000.0  \n",
       "MachineID                                                           1057373  \n",
       "ModelID                                                               17311  \n",
       "datasource                                                              121  \n",
       "auctioneerID                                                            3.0  \n",
       "YearMade                                                               2007  \n",
       "MachineHoursCurrentMeter                                              722.0  \n",
       "UsageBand                                                            Medium  \n",
       "saledate                                                2009-07-23 00:00:00  \n",
       "fiModelDesc                                                            S175  \n",
       "fiBaseModel                                                            S175  \n",
       "fiSecondaryDesc                                                         NaN  \n",
       "fiModelSeries                                                           NaN  \n",
       "fiModelDescriptor                                                       NaN  \n",
       "ProductSize                                                             NaN  \n",
       "fiProductClassDesc        Skid Steer Loader - 1601.0 to 1751.0 Lb Operat...  \n",
       "state                                                              New York  \n",
       "ProductGroup                                                            SSL  \n",
       "ProductGroupDesc                                         Skid Steer Loaders  \n",
       "Drive_System                                                            NaN  \n",
       "Enclosure                                                             EROPS  \n",
       "Forks                                                   None or Unspecified  \n",
       "Pad_Type                                                                NaN  \n",
       "Ride_Control                                                            NaN  \n",
       "Stick                                                                   NaN  \n",
       "Transmission                                                            NaN  \n",
       "Turbocharged                                                            NaN  \n",
       "Blade_Extension                                                         NaN  \n",
       "Blade_Width                                                             NaN  \n",
       "Enclosure_Type                                                          NaN  \n",
       "Engine_Horsepower                                                       NaN  \n",
       "Hydraulics                                                        Auxiliary  \n",
       "Pushblock                                                               NaN  \n",
       "Ripper                                                                  NaN  \n",
       "Scarifier                                                               NaN  \n",
       "Tip_Control                                                             NaN  \n",
       "Tire_Size                                                               NaN  \n",
       "Coupler                                                 None or Unspecified  \n",
       "Coupler_System                                          None or Unspecified  \n",
       "Grouser_Tracks                                          None or Unspecified  \n",
       "Hydraulics_Flow                                                    Standard  \n",
       "Track_Type                                                              NaN  \n",
       "Undercarriage_Pad_Width                                                 NaN  \n",
       "Stick_Length                                                            NaN  \n",
       "Thumb                                                                   NaN  \n",
       "Pattern_Changer                                                         NaN  \n",
       "Grouser_Type                                                            NaN  \n",
       "Backhoe_Mounting                                                        NaN  \n",
       "Blade_Type                                                              NaN  \n",
       "Travel_Controls                                                         NaN  \n",
       "Differential_Type                                                       NaN  \n",
       "Steering_Controls                                                       NaN  "
      ]
     },
     "execution_count": 15,
     "metadata": {},
     "output_type": "execute_result"
    }
   ],
   "source": [
    "df.head().T"
   ]
  },
  {
   "cell_type": "code",
   "execution_count": null,
   "metadata": {
    "colab": {
     "base_uri": "https://localhost:8080/"
    },
    "id": "7ksaqnRdBZed",
    "outputId": "69267102-fdf2-4480-eba3-cc74c8b8ad2a"
   },
   "outputs": [
    {
     "data": {
      "text/plain": [
       "SalesID                          0\n",
       "SalePrice                        0\n",
       "MachineID                        0\n",
       "ModelID                          0\n",
       "datasource                       0\n",
       "auctioneerID                 20136\n",
       "YearMade                         0\n",
       "MachineHoursCurrentMeter    265194\n",
       "UsageBand                   339028\n",
       "saledate                         0\n",
       "fiModelDesc                      0\n",
       "fiBaseModel                      0\n",
       "fiSecondaryDesc             140727\n",
       "fiModelSeries               354031\n",
       "fiModelDescriptor           337882\n",
       "ProductSize                 216605\n",
       "fiProductClassDesc               0\n",
       "state                            0\n",
       "ProductGroup                     0\n",
       "ProductGroupDesc                 0\n",
       "Drive_System                305611\n",
       "Enclosure                      334\n",
       "Forks                       214983\n",
       "Pad_Type                    331602\n",
       "Ride_Control                259970\n",
       "Stick                       331602\n",
       "Transmission                224691\n",
       "Turbocharged                331602\n",
       "Blade_Extension             386715\n",
       "Blade_Width                 386715\n",
       "Enclosure_Type              386715\n",
       "Engine_Horsepower           386715\n",
       "Hydraulics                   82565\n",
       "Pushblock                   386715\n",
       "Ripper                      305753\n",
       "Scarifier                   386704\n",
       "Tip_Control                 386715\n",
       "Tire_Size                   315060\n",
       "Coupler                     192019\n",
       "Coupler_System              367724\n",
       "Grouser_Tracks              367823\n",
       "Hydraulics_Flow             367823\n",
       "Track_Type                  310505\n",
       "Undercarriage_Pad_Width     309782\n",
       "Stick_Length                310437\n",
       "Thumb                       310366\n",
       "Pattern_Changer             310437\n",
       "Grouser_Type                310505\n",
       "Backhoe_Mounting            331986\n",
       "Blade_Type                  330823\n",
       "Travel_Controls             330821\n",
       "Differential_Type           341134\n",
       "Steering_Controls           341176\n",
       "dtype: int64"
      ]
     },
     "execution_count": 16,
     "metadata": {},
     "output_type": "execute_result"
    }
   ],
   "source": [
    "df.isna().sum()"
   ]
  },
  {
   "cell_type": "code",
   "execution_count": null,
   "metadata": {
    "colab": {
     "base_uri": "https://localhost:8080/"
    },
    "id": "h_L-4wSrBoJG",
    "outputId": "5cd04bc7-c297-424c-872a-4d0cca29958e"
   },
   "outputs": [
    {
     "data": {
      "text/plain": [
       "0        2006-11-16\n",
       "1        2004-03-26\n",
       "2        2004-02-26\n",
       "3        2011-05-19\n",
       "4        2009-07-23\n",
       "            ...    \n",
       "412693   2012-03-07\n",
       "412694   2012-01-28\n",
       "412695   2012-01-28\n",
       "412696   2012-03-07\n",
       "412697   2012-01-28\n",
       "Name: saledate, Length: 412698, dtype: datetime64[ns]"
      ]
     },
     "execution_count": 17,
     "metadata": {},
     "output_type": "execute_result"
    }
   ],
   "source": [
    "df['saledate']"
   ]
  },
  {
   "cell_type": "code",
   "execution_count": null,
   "metadata": {
    "colab": {
     "base_uri": "https://localhost:8080/"
    },
    "id": "5pyTTzrdBqCO",
    "outputId": "38dfadce-7a40-4679-99a7-92837d948eef"
   },
   "outputs": [
    {
     "data": {
      "text/plain": [
       "dtype('<M8[ns]')"
      ]
     },
     "execution_count": 18,
     "metadata": {},
     "output_type": "execute_result"
    }
   ],
   "source": [
    "df['saledate'].dtypes"
   ]
  },
  {
   "cell_type": "code",
   "execution_count": null,
   "metadata": {
    "colab": {
     "base_uri": "https://localhost:8080/",
     "height": 296
    },
    "id": "nOt5DRT5BrTm",
    "outputId": "56305d1e-3895-4592-e2a9-62d80f2a2248"
   },
   "outputs": [
    {
     "data": {
      "text/plain": [
       "<matplotlib.axes._subplots.AxesSubplot at 0x7f8742928950>"
      ]
     },
     "execution_count": 19,
     "metadata": {},
     "output_type": "execute_result"
    },
    {
     "data": {
      "image/png": "[encoded data removed]",
      "text/plain": [
       "<Figure size 432x288 with 1 Axes>"
      ]
     },
     "metadata": {
      "needs_background": "light"
     },
     "output_type": "display_data"
    }
   ],
   "source": [
    "sns.scatterplot(data=df[:1000], x='saledate', y='SalePrice')"
   ]
  },
  {
   "cell_type": "code",
   "execution_count": null,
   "metadata": {
    "colab": {
     "base_uri": "https://localhost:8080/",
     "height": 282
    },
    "id": "lCh69QqiBsrF",
    "outputId": "cd07304c-ff56-4ca9-d0f2-2c91b6df4f2b"
   },
   "outputs": [
    {
     "data": {
      "text/plain": [
       "<matplotlib.axes._subplots.AxesSubplot at 0x7f874479dd90>"
      ]
     },
     "execution_count": 12,
     "metadata": {},
     "output_type": "execute_result"
    },
    {
     "data": {
      "image/png": "[encoded data removed]",
      "text/plain": [
       "<Figure size 432x288 with 1 Axes>"
      ]
     },
     "metadata": {
      "needs_background": "light"
     },
     "output_type": "display_data"
    }
   ],
   "source": [
    "df.SalePrice.plot.hist()"
   ]
  },
  {
   "cell_type": "code",
   "execution_count": null,
   "metadata": {
    "id": "TpHLbqX6BuS1"
   },
   "outputs": [],
   "source": [
    "df.sort_values('saledate', inplace=True, ascending=True)"
   ]
  },
  {
   "cell_type": "markdown",
   "metadata": {
    "id": "Y-DpJezMCWh9"
   },
   "source": [
    "Add datetime parameters for saledate column"
   ]
  },
  {
   "cell_type": "code",
   "execution_count": null,
   "metadata": {
    "id": "2JVn3CujCMqm"
   },
   "outputs": [],
   "source": [
    "df[\"saleYear\"] = df.saledate.dt.year\n",
    "df['salemonth'] = df.saledate.dt.month\n",
    "df['saleday'] = df.saledate.dt.day\n",
    "df['saledayofWeek'] = df.saledate.dt.dayofweek\n",
    "df['saledayofyear'] = df.saledate.dt.dayofyear"
   ]
  },
  {
   "cell_type": "code",
   "execution_count": null,
   "metadata": {
    "colab": {
     "base_uri": "https://localhost:8080/"
    },
    "id": "7ZyTIHtsCTO2",
    "outputId": "d6d817d6-2a14-4e3a-a1ed-bddd2d6aeb96"
   },
   "outputs": [
    {
     "data": {
      "text/plain": [
       "Index(['SalesID', 'SalePrice', 'MachineID', 'ModelID', 'datasource',\n",
       "       'auctioneerID', 'YearMade', 'MachineHoursCurrentMeter', 'UsageBand',\n",
       "       'saledate', 'fiModelDesc', 'fiBaseModel', 'fiSecondaryDesc',\n",
       "       'fiModelSeries', 'fiModelDescriptor', 'ProductSize',\n",
       "       'fiProductClassDesc', 'state', 'ProductGroup', 'ProductGroupDesc',\n",
       "       'Drive_System', 'Enclosure', 'Forks', 'Pad_Type', 'Ride_Control',\n",
       "       'Stick', 'Transmission', 'Turbocharged', 'Blade_Extension',\n",
       "       'Blade_Width', 'Enclosure_Type', 'Engine_Horsepower', 'Hydraulics',\n",
       "       'Pushblock', 'Ripper', 'Scarifier', 'Tip_Control', 'Tire_Size',\n",
       "       'Coupler', 'Coupler_System', 'Grouser_Tracks', 'Hydraulics_Flow',\n",
       "       'Track_Type', 'Undercarriage_Pad_Width', 'Stick_Length', 'Thumb',\n",
       "       'Pattern_Changer', 'Grouser_Type', 'Backhoe_Mounting', 'Blade_Type',\n",
       "       'Travel_Controls', 'Differential_Type', 'Steering_Controls', 'saleYear',\n",
       "       'salemonth', 'saleday', 'saledayofWeek', 'saledayofyear'],\n",
       "      dtype='object')"
      ]
     },
     "execution_count": 23,
     "metadata": {},
     "output_type": "execute_result"
    }
   ],
   "source": [
    "df.columns"
   ]
  },
  {
   "cell_type": "code",
   "execution_count": null,
   "metadata": {
    "id": "dd7g1PDWCbgl"
   },
   "outputs": [],
   "source": [
    "# Now we've enriched our DataFrame with date time features, we can remove 'saledate'\n",
    "df.drop('saledate', axis=1, inplace=True)"
   ]
  },
  {
   "cell_type": "code",
   "execution_count": null,
   "metadata": {
    "colab": {
     "base_uri": "https://localhost:8080/"
    },
    "id": "BI6qSngWCdOF",
    "outputId": "54a2df4b-1ad0-46c9-de2d-6f3d1f1485ae"
   },
   "outputs": [
    {
     "name": "stdout",
     "output_type": "stream",
     "text": [
      "<class 'pandas.core.frame.DataFrame'>\n",
      "Int64Index: 412698 entries, 205615 to 409203\n",
      "Data columns (total 57 columns):\n",
      " #   Column                    Non-Null Count   Dtype  \n",
      "---  ------                    --------------   -----  \n",
      " 0   SalesID                   412698 non-null  int64  \n",
      " 1   SalePrice                 412698 non-null  float64\n",
      " 2   MachineID                 412698 non-null  int64  \n",
      " 3   ModelID                   412698 non-null  int64  \n",
      " 4   datasource                412698 non-null  int64  \n",
      " 5   auctioneerID              392562 non-null  float64\n",
      " 6   YearMade                  412698 non-null  int64  \n",
      " 7   MachineHoursCurrentMeter  147504 non-null  float64\n",
      " 8   UsageBand                 73670 non-null   object \n",
      " 9   fiModelDesc               412698 non-null  object \n",
      " 10  fiBaseModel               412698 non-null  object \n",
      " 11  fiSecondaryDesc           271971 non-null  object \n",
      " 12  fiModelSeries             58667 non-null   object \n",
      " 13  fiModelDescriptor         74816 non-null   object \n",
      " 14  ProductSize               196093 non-null  object \n",
      " 15  fiProductClassDesc        412698 non-null  object \n",
      " 16  state                     412698 non-null  object \n",
      " 17  ProductGroup              412698 non-null  object \n",
      " 18  ProductGroupDesc          412698 non-null  object \n",
      " 19  Drive_System              107087 non-null  object \n",
      " 20  Enclosure                 412364 non-null  object \n",
      " 21  Forks                     197715 non-null  object \n",
      " 22  Pad_Type                  81096 non-null   object \n",
      " 23  Ride_Control              152728 non-null  object \n",
      " 24  Stick                     81096 non-null   object \n",
      " 25  Transmission              188007 non-null  object \n",
      " 26  Turbocharged              81096 non-null   object \n",
      " 27  Blade_Extension           25983 non-null   object \n",
      " 28  Blade_Width               25983 non-null   object \n",
      " 29  Enclosure_Type            25983 non-null   object \n",
      " 30  Engine_Horsepower         25983 non-null   object \n",
      " 31  Hydraulics                330133 non-null  object \n",
      " 32  Pushblock                 25983 non-null   object \n",
      " 33  Ripper                    106945 non-null  object \n",
      " 34  Scarifier                 25994 non-null   object \n",
      " 35  Tip_Control               25983 non-null   object \n",
      " 36  Tire_Size                 97638 non-null   object \n",
      " 37  Coupler                   220679 non-null  object \n",
      " 38  Coupler_System            44974 non-null   object \n",
      " 39  Grouser_Tracks            44875 non-null   object \n",
      " 40  Hydraulics_Flow           44875 non-null   object \n",
      " 41  Track_Type                102193 non-null  object \n",
      " 42  Undercarriage_Pad_Width   102916 non-null  object \n",
      " 43  Stick_Length              102261 non-null  object \n",
      " 44  Thumb                     102332 non-null  object \n",
      " 45  Pattern_Changer           102261 non-null  object \n",
      " 46  Grouser_Type              102193 non-null  object \n",
      " 47  Backhoe_Mounting          80712 non-null   object \n",
      " 48  Blade_Type                81875 non-null   object \n",
      " 49  Travel_Controls           81877 non-null   object \n",
      " 50  Differential_Type         71564 non-null   object \n",
      " 51  Steering_Controls         71522 non-null   object \n",
      " 52  saleYear                  412698 non-null  int64  \n",
      " 53  salemonth                 412698 non-null  int64  \n",
      " 54  saleday                   412698 non-null  int64  \n",
      " 55  saledayofWeek             412698 non-null  int64  \n",
      " 56  saledayofyear             412698 non-null  int64  \n",
      "dtypes: float64(3), int64(10), object(44)\n",
      "memory usage: 182.6+ MB\n"
     ]
    }
   ],
   "source": [
    "df.info()"
   ]
  },
  {
   "cell_type": "code",
   "execution_count": null,
   "metadata": {
    "colab": {
     "base_uri": "https://localhost:8080/"
    },
    "id": "Cvs7gNLaCsK2",
    "outputId": "8dee7c4a-a73b-4a8d-df0f-ef665e6635c5"
   },
   "outputs": [
    {
     "data": {
      "text/plain": [
       "SalesID                          0\n",
       "SalePrice                        0\n",
       "MachineID                        0\n",
       "ModelID                          0\n",
       "datasource                       0\n",
       "auctioneerID                 20136\n",
       "YearMade                         0\n",
       "MachineHoursCurrentMeter    265194\n",
       "UsageBand                   339028\n",
       "fiModelDesc                      0\n",
       "fiBaseModel                      0\n",
       "fiSecondaryDesc             140727\n",
       "fiModelSeries               354031\n",
       "fiModelDescriptor           337882\n",
       "ProductSize                 216605\n",
       "fiProductClassDesc               0\n",
       "state                            0\n",
       "ProductGroup                     0\n",
       "ProductGroupDesc                 0\n",
       "Drive_System                305611\n",
       "Enclosure                      334\n",
       "Forks                       214983\n",
       "Pad_Type                    331602\n",
       "Ride_Control                259970\n",
       "Stick                       331602\n",
       "Transmission                224691\n",
       "Turbocharged                331602\n",
       "Blade_Extension             386715\n",
       "Blade_Width                 386715\n",
       "Enclosure_Type              386715\n",
       "Engine_Horsepower           386715\n",
       "Hydraulics                   82565\n",
       "Pushblock                   386715\n",
       "Ripper                      305753\n",
       "Scarifier                   386704\n",
       "Tip_Control                 386715\n",
       "Tire_Size                   315060\n",
       "Coupler                     192019\n",
       "Coupler_System              367724\n",
       "Grouser_Tracks              367823\n",
       "Hydraulics_Flow             367823\n",
       "Track_Type                  310505\n",
       "Undercarriage_Pad_Width     309782\n",
       "Stick_Length                310437\n",
       "Thumb                       310366\n",
       "Pattern_Changer             310437\n",
       "Grouser_Type                310505\n",
       "Backhoe_Mounting            331986\n",
       "Blade_Type                  330823\n",
       "Travel_Controls             330821\n",
       "Differential_Type           341134\n",
       "Steering_Controls           341176\n",
       "saleYear                         0\n",
       "salemonth                        0\n",
       "saleday                          0\n",
       "saledayofWeek                    0\n",
       "saledayofyear                    0\n",
       "dtype: int64"
      ]
     },
     "execution_count": 26,
     "metadata": {},
     "output_type": "execute_result"
    }
   ],
   "source": [
    "df.isna().sum()"
   ]
  },
  {
   "cell_type": "markdown",
   "metadata": {
    "id": "mo9ND3XeC52Q"
   },
   "source": [
    "### Convert string to categories"
   ]
  },
  {
   "cell_type": "markdown",
   "metadata": {
    "id": "CzmEgVv-C840"
   },
   "source": [
    "One way we can turn all of our data into numbers is by converting them into pandas catgories."
   ]
  },
  {
   "cell_type": "code",
   "execution_count": null,
   "metadata": {
    "colab": {
     "base_uri": "https://localhost:8080/"
    },
    "id": "eL9o0MQBCxUv",
    "outputId": "ae5d3149-2af5-49e4-b8e5-daf9b2424102"
   },
   "outputs": [
    {
     "data": {
      "text/plain": [
       "True"
      ]
     },
     "execution_count": 29,
     "metadata": {},
     "output_type": "execute_result"
    }
   ],
   "source": [
    "pd.api.types.is_string_dtype(df[\"UsageBand\"])"
   ]
  },
  {
   "cell_type": "code",
   "execution_count": null,
   "metadata": {
    "colab": {
     "base_uri": "https://localhost:8080/"
    },
    "id": "EvSdO9OBC3_X",
    "outputId": "d505c987-8779-4c86-8b67-bd216c2fb2d9"
   },
   "outputs": [
    {
     "name": "stdout",
     "output_type": "stream",
     "text": [
      "UsageBand\n",
      "fiModelDesc\n",
      "fiBaseModel\n",
      "fiSecondaryDesc\n",
      "fiModelSeries\n",
      "fiModelDescriptor\n",
      "ProductSize\n",
      "fiProductClassDesc\n",
      "state\n",
      "ProductGroup\n",
      "ProductGroupDesc\n",
      "Drive_System\n",
      "Enclosure\n",
      "Forks\n",
      "Pad_Type\n",
      "Ride_Control\n",
      "Stick\n",
      "Transmission\n",
      "Turbocharged\n",
      "Blade_Extension\n",
      "Blade_Width\n",
      "Enclosure_Type\n",
      "Engine_Horsepower\n",
      "Hydraulics\n",
      "Pushblock\n",
      "Ripper\n",
      "Scarifier\n",
      "Tip_Control\n",
      "Tire_Size\n",
      "Coupler\n",
      "Coupler_System\n",
      "Grouser_Tracks\n",
      "Hydraulics_Flow\n",
      "Track_Type\n",
      "Undercarriage_Pad_Width\n",
      "Stick_Length\n",
      "Thumb\n",
      "Pattern_Changer\n",
      "Grouser_Type\n",
      "Backhoe_Mounting\n",
      "Blade_Type\n",
      "Travel_Controls\n",
      "Differential_Type\n",
      "Steering_Controls\n"
     ]
    }
   ],
   "source": [
    "# Find the columns which contains string\n",
    "for labels, contents in df.items():\n",
    "  if pd.api.types.is_string_dtype(contents):\n",
    "    print(labels)"
   ]
  },
  {
   "cell_type": "code",
   "execution_count": null,
   "metadata": {
    "id": "cQxTN7hJDZBH"
   },
   "outputs": [],
   "source": [
    "# This will turn all of the string value into category values\n",
    "for label, content in df.items():\n",
    "  if pd.api.types.is_string_dtype(content):\n",
    "    df[label] = content.astype(\"category\").cat.as_ordered()"
   ]
  },
  {
   "cell_type": "code",
   "execution_count": null,
   "metadata": {
    "colab": {
     "base_uri": "https://localhost:8080/"
    },
    "id": "YDq2UBLrEI_t",
    "outputId": "51bb77b9-6bad-46b1-9ae6-6cc83d3d9eeb"
   },
   "outputs": [
    {
     "name": "stdout",
     "output_type": "stream",
     "text": [
      "<class 'pandas.core.frame.DataFrame'>\n",
      "Int64Index: 412698 entries, 205615 to 409203\n",
      "Data columns (total 57 columns):\n",
      " #   Column                    Non-Null Count   Dtype   \n",
      "---  ------                    --------------   -----   \n",
      " 0   SalesID                   412698 non-null  int64   \n",
      " 1   SalePrice                 412698 non-null  float64 \n",
      " 2   MachineID                 412698 non-null  int64   \n",
      " 3   ModelID                   412698 non-null  int64   \n",
      " 4   datasource                412698 non-null  int64   \n",
      " 5   auctioneerID              392562 non-null  float64 \n",
      " 6   YearMade                  412698 non-null  int64   \n",
      " 7   MachineHoursCurrentMeter  147504 non-null  float64 \n",
      " 8   UsageBand                 73670 non-null   category\n",
      " 9   fiModelDesc               412698 non-null  category\n",
      " 10  fiBaseModel               412698 non-null  category\n",
      " 11  fiSecondaryDesc           271971 non-null  category\n",
      " 12  fiModelSeries             58667 non-null   category\n",
      " 13  fiModelDescriptor         74816 non-null   category\n",
      " 14  ProductSize               196093 non-null  category\n",
      " 15  fiProductClassDesc        412698 non-null  category\n",
      " 16  state                     412698 non-null  category\n",
      " 17  ProductGroup              412698 non-null  category\n",
      " 18  ProductGroupDesc          412698 non-null  category\n",
      " 19  Drive_System              107087 non-null  category\n",
      " 20  Enclosure                 412364 non-null  category\n",
      " 21  Forks                     197715 non-null  category\n",
      " 22  Pad_Type                  81096 non-null   category\n",
      " 23  Ride_Control              152728 non-null  category\n",
      " 24  Stick                     81096 non-null   category\n",
      " 25  Transmission              188007 non-null  category\n",
      " 26  Turbocharged              81096 non-null   category\n",
      " 27  Blade_Extension           25983 non-null   category\n",
      " 28  Blade_Width               25983 non-null   category\n",
      " 29  Enclosure_Type            25983 non-null   category\n",
      " 30  Engine_Horsepower         25983 non-null   category\n",
      " 31  Hydraulics                330133 non-null  category\n",
      " 32  Pushblock                 25983 non-null   category\n",
      " 33  Ripper                    106945 non-null  category\n",
      " 34  Scarifier                 25994 non-null   category\n",
      " 35  Tip_Control               25983 non-null   category\n",
      " 36  Tire_Size                 97638 non-null   category\n",
      " 37  Coupler                   220679 non-null  category\n",
      " 38  Coupler_System            44974 non-null   category\n",
      " 39  Grouser_Tracks            44875 non-null   category\n",
      " 40  Hydraulics_Flow           44875 non-null   category\n",
      " 41  Track_Type                102193 non-null  category\n",
      " 42  Undercarriage_Pad_Width   102916 non-null  category\n",
      " 43  Stick_Length              102261 non-null  category\n",
      " 44  Thumb                     102332 non-null  category\n",
      " 45  Pattern_Changer           102261 non-null  category\n",
      " 46  Grouser_Type              102193 non-null  category\n",
      " 47  Backhoe_Mounting          80712 non-null   category\n",
      " 48  Blade_Type                81875 non-null   category\n",
      " 49  Travel_Controls           81877 non-null   category\n",
      " 50  Differential_Type         71564 non-null   category\n",
      " 51  Steering_Controls         71522 non-null   category\n",
      " 52  saleYear                  412698 non-null  int64   \n",
      " 53  salemonth                 412698 non-null  int64   \n",
      " 54  saleday                   412698 non-null  int64   \n",
      " 55  saledayofWeek             412698 non-null  int64   \n",
      " 56  saledayofyear             412698 non-null  int64   \n",
      "dtypes: category(44), float64(3), int64(10)\n",
      "memory usage: 63.2 MB\n"
     ]
    }
   ],
   "source": [
    "df.info()"
   ]
  },
  {
   "cell_type": "code",
   "execution_count": null,
   "metadata": {
    "id": "d97rREBWEMmG"
   },
   "outputs": [],
   "source": []
  },
  {
   "cell_type": "markdown",
   "metadata": {
    "id": "HiP88s7dEo42"
   },
   "source": [
    "**Filling the missing numeric values**"
   ]
  },
  {
   "cell_type": "code",
   "execution_count": null,
   "metadata": {
    "colab": {
     "base_uri": "https://localhost:8080/"
    },
    "id": "yEVproexEsmd",
    "outputId": "081ec5c5-f7b8-4959-b6d9-949cb66aec4a"
   },
   "outputs": [
    {
     "name": "stdout",
     "output_type": "stream",
     "text": [
      "SalesID\n",
      "SalePrice\n",
      "MachineID\n",
      "ModelID\n",
      "datasource\n",
      "auctioneerID\n",
      "YearMade\n",
      "MachineHoursCurrentMeter\n",
      "saleYear\n",
      "salemonth\n",
      "saleday\n",
      "saledayofWeek\n",
      "saledayofyear\n"
     ]
    }
   ],
   "source": [
    "for label, content in df.items():\n",
    "  if pd.api.types.is_numeric_dtype(content):\n",
    "    print(label)"
   ]
  },
  {
   "cell_type": "code",
   "execution_count": null,
   "metadata": {
    "colab": {
     "base_uri": "https://localhost:8080/"
    },
    "id": "t6XOylP4E6il",
    "outputId": "0e453344-e3f3-4756-9cea-90f5ba56bc6f"
   },
   "outputs": [
    {
     "name": "stdout",
     "output_type": "stream",
     "text": [
      "auctioneerID\n",
      "MachineHoursCurrentMeter\n"
     ]
    }
   ],
   "source": [
    "for label, content in df.items():\n",
    "  if pd.api.types.is_numeric_dtype(content):\n",
    "    if pd.isnull(content).sum():\n",
    "      print(label)"
   ]
  },
  {
   "cell_type": "code",
   "execution_count": null,
   "metadata": {
    "id": "04bTo9IGFMDU"
   },
   "outputs": [],
   "source": []
  },
  {
   "cell_type": "markdown",
   "metadata": {
    "id": "ZnQhC2dcFbV5"
   },
   "source": [
    "# **Fill numeric rows with the median**"
   ]
  },
  {
   "cell_type": "code",
   "execution_count": null,
   "metadata": {
    "id": "8nDaHrYNFhnF"
   },
   "outputs": [],
   "source": [
    "for label, content in df.items():\n",
    "  if pd.api.types.is_numeric_dtype(content):\n",
    "    if pd.isnull(content).sum():\n",
    "      df[label+'_is_missing'] = pd.isnull(content)\n",
    "\n",
    "      df[label] = content.fillna(content.median())"
   ]
  },
  {
   "cell_type": "code",
   "execution_count": null,
   "metadata": {
    "colab": {
     "base_uri": "https://localhost:8080/"
    },
    "id": "nUY2vQpCF9xH",
    "outputId": "0ffcf410-8117-47da-b54e-6a657497b9b2"
   },
   "outputs": [
    {
     "data": {
      "text/plain": [
       "SalesID                                     0\n",
       "SalePrice                                   0\n",
       "MachineID                                   0\n",
       "ModelID                                     0\n",
       "datasource                                  0\n",
       "auctioneerID                                0\n",
       "YearMade                                    0\n",
       "MachineHoursCurrentMeter                    0\n",
       "UsageBand                              339028\n",
       "fiModelDesc                                 0\n",
       "fiBaseModel                                 0\n",
       "fiSecondaryDesc                        140727\n",
       "fiModelSeries                          354031\n",
       "fiModelDescriptor                      337882\n",
       "ProductSize                            216605\n",
       "fiProductClassDesc                          0\n",
       "state                                       0\n",
       "ProductGroup                                0\n",
       "ProductGroupDesc                            0\n",
       "Drive_System                           305611\n",
       "Enclosure                                 334\n",
       "Forks                                  214983\n",
       "Pad_Type                               331602\n",
       "Ride_Control                           259970\n",
       "Stick                                  331602\n",
       "Transmission                           224691\n",
       "Turbocharged                           331602\n",
       "Blade_Extension                        386715\n",
       "Blade_Width                            386715\n",
       "Enclosure_Type                         386715\n",
       "Engine_Horsepower                      386715\n",
       "Hydraulics                              82565\n",
       "Pushblock                              386715\n",
       "Ripper                                 305753\n",
       "Scarifier                              386704\n",
       "Tip_Control                            386715\n",
       "Tire_Size                              315060\n",
       "Coupler                                192019\n",
       "Coupler_System                         367724\n",
       "Grouser_Tracks                         367823\n",
       "Hydraulics_Flow                        367823\n",
       "Track_Type                             310505\n",
       "Undercarriage_Pad_Width                309782\n",
       "Stick_Length                           310437\n",
       "Thumb                                  310366\n",
       "Pattern_Changer                        310437\n",
       "Grouser_Type                           310505\n",
       "Backhoe_Mounting                       331986\n",
       "Blade_Type                             330823\n",
       "Travel_Controls                        330821\n",
       "Differential_Type                      341134\n",
       "Steering_Controls                      341176\n",
       "saleYear                                    0\n",
       "salemonth                                   0\n",
       "saleday                                     0\n",
       "saledayofWeek                               0\n",
       "saledayofyear                               0\n",
       "auctioneerID_is_missing                     0\n",
       "MachineHoursCurrentMeter_is_missing         0\n",
       "dtype: int64"
      ]
     },
     "execution_count": 37,
     "metadata": {},
     "output_type": "execute_result"
    }
   ],
   "source": [
    "df.isna().sum()"
   ]
  },
  {
   "cell_type": "markdown",
   "metadata": {
    "id": "Jj0ftKxxGPNe"
   },
   "source": [
    "### Turning categorical variables into numbers and fill missing"
   ]
  },
  {
   "cell_type": "code",
   "execution_count": null,
   "metadata": {
    "id": "1_6KdR7oGGv9"
   },
   "outputs": [],
   "source": [
    "for label, content in df.items():\n",
    "  if not pd.api.types.is_numeric_dtype(content):\n",
    "    df[label+ '_is_missing'] = pd.isnull(content)\n",
    "\n",
    "    df[label] = pd.Categorical(content).codes+1 \n",
    "  # +1 cause when turning categories into numbers it will convert all 0 into -1.\n"
   ]
  },
  {
   "cell_type": "code",
   "execution_count": null,
   "metadata": {
    "colab": {
     "base_uri": "https://localhost:8080/"
    },
    "id": "Zz0VqCQxG0PX",
    "outputId": "c3683cf0-e718-481d-bac8-e9af9180f876"
   },
   "outputs": [
    {
     "data": {
      "text/plain": [
       "[0, 0, 0, 0, 0, ..., 0, 0, 0, 3, 0]\n",
       "Length: 412698\n",
       "Categories (4, int64): [0, 1, 2, 3]"
      ]
     },
     "execution_count": 40,
     "metadata": {},
     "output_type": "execute_result"
    }
   ],
   "source": [
    "pd.Categorical(df[\"Enclosure_Type\"])"
   ]
  },
  {
   "cell_type": "code",
   "execution_count": null,
   "metadata": {
    "colab": {
     "base_uri": "https://localhost:8080/"
    },
    "id": "oRSRIQOMG63G",
    "outputId": "b5cf8340-64f4-4581-b28f-86805f6c707d"
   },
   "outputs": [
    {
     "data": {
      "text/plain": [
       "SalesID                         0\n",
       "SalePrice                       0\n",
       "MachineID                       0\n",
       "ModelID                         0\n",
       "datasource                      0\n",
       "                               ..\n",
       "Backhoe_Mounting_is_missing     0\n",
       "Blade_Type_is_missing           0\n",
       "Travel_Controls_is_missing      0\n",
       "Differential_Type_is_missing    0\n",
       "Steering_Controls_is_missing    0\n",
       "Length: 103, dtype: int64"
      ]
     },
     "execution_count": 43,
     "metadata": {},
     "output_type": "execute_result"
    }
   ],
   "source": [
    "df.isna().sum()"
   ]
  },
  {
   "cell_type": "markdown",
   "metadata": {
    "id": "OjvsFY3EHkw7"
   },
   "source": [
    "# Train Validation Test Split"
   ]
  },
  {
   "cell_type": "code",
   "execution_count": null,
   "metadata": {
    "id": "G9wn33C5HYOe"
   },
   "outputs": [],
   "source": [
    "from sklearn.model_selection import train_test_split\n",
    "from sklearn.ensemble import RandomForestRegressor"
   ]
  },
  {
   "cell_type": "code",
   "execution_count": null,
   "metadata": {
    "id": "qIyhxiYSJNKX"
   },
   "outputs": [],
   "source": [
    "X = df.drop('SalePrice', axis=1)\n",
    "y = df['SalePrice']"
   ]
  },
  {
   "cell_type": "code",
   "execution_count": null,
   "metadata": {
    "colab": {
     "base_uri": "https://localhost:8080/"
    },
    "id": "7mTvoUm2KD8E",
    "outputId": "842da413-b72b-4de1-b14a-9418175426a0"
   },
   "outputs": [
    {
     "data": {
      "text/plain": [
       "(412698, 102)"
      ]
     },
     "execution_count": 47,
     "metadata": {},
     "output_type": "execute_result"
    }
   ],
   "source": [
    "X.shape"
   ]
  },
  {
   "cell_type": "code",
   "execution_count": null,
   "metadata": {
    "colab": {
     "base_uri": "https://localhost:8080/"
    },
    "id": "mkMt0Ks4KFZV",
    "outputId": "58014a49-8fda-412d-bd8f-05d7b99e2945"
   },
   "outputs": [
    {
     "data": {
      "text/plain": [
       "(412698,)"
      ]
     },
     "execution_count": 48,
     "metadata": {},
     "output_type": "execute_result"
    }
   ],
   "source": [
    "y.shape"
   ]
  },
  {
   "cell_type": "code",
   "execution_count": null,
   "metadata": {
    "id": "upcZMXsXK96H"
   },
   "outputs": [],
   "source": [
    "X_train, X_valid, y_train, y_valid = train_test_split(\n",
    "                                    X, y,\n",
    "                                    test_size=0.3,\n",
    "                                    random_state = 101)"
   ]
  },
  {
   "cell_type": "code",
   "execution_count": null,
   "metadata": {
    "id": "uNJUU3LfMEpW"
   },
   "outputs": [],
   "source": []
  },
  {
   "cell_type": "code",
   "execution_count": null,
   "metadata": {
    "id": "lNMTve-hNho2"
   },
   "outputs": [],
   "source": [
    "from sklearn.model_selection import RandomizedSearchCV"
   ]
  },
  {
   "cell_type": "code",
   "execution_count": null,
   "metadata": {
    "id": "Yird8tvRN43e"
   },
   "outputs": [],
   "source": [
    "param_grid = {\"n_estimators\": np.arange(10, 100, 10),\n",
    "           \"max_depth\": [None, 3, 5, 10],\n",
    "           \"min_samples_split\": np.arange(2, 20, 2),\n",
    "           \"min_samples_leaf\": np.arange(1, 20, 2),\n",
    "           \"max_features\": [0.5, 1, \"sqrt\", \"auto\"],\n",
    "           \"max_samples\": [10000]}"
   ]
  },
  {
   "cell_type": "code",
   "execution_count": null,
   "metadata": {
    "id": "Fc4xCz_BOuq1"
   },
   "outputs": [],
   "source": [
    "grid_model = RandomizedSearchCV(RandomForestRegressor(n_jobs=-1,\n",
    "                                                    random_state=42),\n",
    "                              param_distributions=param_grid,\n",
    "                              cv=5,\n",
    "                              n_iter=5,\n",
    "                              verbose=True)"
   ]
  },
  {
   "cell_type": "code",
   "execution_count": null,
   "metadata": {
    "colab": {
     "base_uri": "https://localhost:8080/"
    },
    "id": "_h6cEqI6O53N",
    "outputId": "ee9ed452-1a35-4b7f-bb74-c842c0cb4b40"
   },
   "outputs": [
    {
     "name": "stdout",
     "output_type": "stream",
     "text": [
      "Fitting 5 folds for each of 5 candidates, totalling 25 fits\n"
     ]
    },
    {
     "data": {
      "text/plain": [
       "RandomizedSearchCV(cv=5,\n",
       "                   estimator=RandomForestRegressor(n_jobs=-1, random_state=42),\n",
       "                   n_iter=5,\n",
       "                   param_distributions={'max_depth': [None, 3, 5, 10],\n",
       "                                        'max_features': [0.5, 1, 'sqrt',\n",
       "                                                         'auto'],\n",
       "                                        'max_samples': [10000],\n",
       "                                        'min_samples_leaf': array([ 1,  3,  5,  7,  9, 11, 13, 15, 17, 19]),\n",
       "                                        'min_samples_split': array([ 2,  4,  6,  8, 10, 12, 14, 16, 18]),\n",
       "                                        'n_estimators': array([10, 20, 30, 40, 50, 60, 70, 80, 90])},\n",
       "                   verbose=True)"
      ]
     },
     "execution_count": 88,
     "metadata": {},
     "output_type": "execute_result"
    }
   ],
   "source": [
    "grid_model.fit(X_train, y_train)"
   ]
  },
  {
   "cell_type": "code",
   "execution_count": null,
   "metadata": {
    "colab": {
     "base_uri": "https://localhost:8080/"
    },
    "id": "isLT_4cPO_0t",
    "outputId": "57fa7a49-226e-421c-c85d-cd635b87021a"
   },
   "outputs": [
    {
     "data": {
      "text/plain": [
       "{'max_depth': 10,\n",
       " 'max_features': 'auto',\n",
       " 'max_samples': 10000,\n",
       " 'min_samples_leaf': 11,\n",
       " 'min_samples_split': 2,\n",
       " 'n_estimators': 40}"
      ]
     },
     "execution_count": 89,
     "metadata": {},
     "output_type": "execute_result"
    }
   ],
   "source": [
    "grid_model.best_params_"
   ]
  },
  {
   "cell_type": "code",
   "execution_count": null,
   "metadata": {
    "id": "xubW92IXVRX8"
   },
   "outputs": [],
   "source": [
    "from sklearn.metrics import mean_squared_log_error, mean_absolute_error, r2_score"
   ]
  },
  {
   "cell_type": "code",
   "execution_count": null,
   "metadata": {
    "id": "Zh9MJTD7RqBQ"
   },
   "outputs": [],
   "source": [
    "val_pred = grid_model.predict(X_valid)"
   ]
  },
  {
   "cell_type": "code",
   "execution_count": null,
   "metadata": {
    "id": "lD0daYmIRmQ5"
   },
   "outputs": [],
   "source": [
    "rmsle = np.sqrt(mean_squared_log_error(y_valid, val_pred))"
   ]
  },
  {
   "cell_type": "code",
   "execution_count": null,
   "metadata": {
    "colab": {
     "base_uri": "https://localhost:8080/"
    },
    "id": "ST-75Z3yVxeo",
    "outputId": "904db30c-ec4a-418c-ef61-8880635e69a4"
   },
   "outputs": [
    {
     "data": {
      "text/plain": [
       "0.30044422948298066"
      ]
     },
     "execution_count": 97,
     "metadata": {},
     "output_type": "execute_result"
    }
   ],
   "source": [
    "rmsle"
   ]
  },
  {
   "cell_type": "code",
   "execution_count": null,
   "metadata": {
    "id": "JmqP-6mGWwjv"
   },
   "outputs": [],
   "source": [
    "final_model = RandomForestRegressor(max_depth= 10,\n",
    "                                    max_features= 'auto',\n",
    "                                    max_samples= 10000,\n",
    "                                    min_samples_leaf= 11,\n",
    "                                    min_samples_split= 2,\n",
    "                                    n_estimators= 40)"
   ]
  },
  {
   "cell_type": "code",
   "execution_count": null,
   "metadata": {
    "colab": {
     "base_uri": "https://localhost:8080/"
    },
    "id": "4-lA4VgMYTf4",
    "outputId": "ad487bca-55ae-4640-9ba8-50d7cb3d839f"
   },
   "outputs": [
    {
     "data": {
      "text/plain": [
       "RandomForestRegressor(max_depth=10, max_samples=10000, min_samples_leaf=11,\n",
       "                      n_estimators=40)"
      ]
     },
     "execution_count": 104,
     "metadata": {},
     "output_type": "execute_result"
    }
   ],
   "source": [
    "final_model.fit(X_train, y_train)"
   ]
  },
  {
   "cell_type": "code",
   "execution_count": null,
   "metadata": {
    "id": "Y1hghSIjX1gv"
   },
   "outputs": [],
   "source": [
    "pred = final_model.predict(X_valid)"
   ]
  },
  {
   "cell_type": "code",
   "execution_count": null,
   "metadata": {
    "id": "GlOBcmexYNR2"
   },
   "outputs": [],
   "source": [
    "rmsle = np.sqrt(mean_squared_log_error(y_valid, pred))"
   ]
  },
  {
   "cell_type": "code",
   "execution_count": null,
   "metadata": {
    "colab": {
     "base_uri": "https://localhost:8080/"
    },
    "id": "8aLxmqgfYzwP",
    "outputId": "fc5f0606-da71-4ecb-f6a3-63bd8a6744f3"
   },
   "outputs": [
    {
     "data": {
      "text/plain": [
       "0.2999806299902934"
      ]
     },
     "execution_count": 107,
     "metadata": {},
     "output_type": "execute_result"
    }
   ],
   "source": [
    "rmsle"
   ]
  },
  {
   "cell_type": "code",
   "execution_count": null,
   "metadata": {
    "colab": {
     "base_uri": "https://localhost:8080/"
    },
    "id": "cOV6yhyFY04e",
    "outputId": "3a519b52-95d2-4a27-9d07-b12f2cd3e5ce"
   },
   "outputs": [
    {
     "data": {
      "text/plain": [
       "RandomForestRegressor(max_features=0.5, min_samples_split=14, n_estimators=40,\n",
       "                      n_jobs=-1, random_state=42)"
      ]
     },
     "execution_count": 108,
     "metadata": {},
     "output_type": "execute_result"
    }
   ],
   "source": [
    "ideal_model = RandomForestRegressor(n_estimators=40,\n",
    "                                    min_samples_leaf=1,\n",
    "                                    min_samples_split=14,\n",
    "                                    max_features=0.5,\n",
    "                                    n_jobs=-1,\n",
    "                                    max_samples=None,\n",
    "                                    random_state=42)\n",
    "ideal_model.fit(X_train, y_train)"
   ]
  },
  {
   "cell_type": "code",
   "execution_count": null,
   "metadata": {
    "id": "dgOJ_fY_ajo1"
   },
   "outputs": [],
   "source": [
    "preds = ideal_model.predict(X_valid)"
   ]
  },
  {
   "cell_type": "code",
   "execution_count": null,
   "metadata": {
    "colab": {
     "base_uri": "https://localhost:8080/"
    },
    "id": "MYQg_skIaA7V",
    "outputId": "89da90dd-4ab8-405f-b0a6-d65486e345c3"
   },
   "outputs": [
    {
     "data": {
      "text/plain": [
       "0.21770053640023404"
      ]
     },
     "execution_count": 110,
     "metadata": {},
     "output_type": "execute_result"
    }
   ],
   "source": [
    "rmsle = np.sqrt(mean_squared_log_error(y_valid, preds))\n",
    "rmsle"
   ]
  },
  {
   "cell_type": "markdown",
   "metadata": {},
   "source": [
    "# As we can see the prediction is much more accurate -> 0.21770053640023404"
   ]
  },
  {
   "cell_type": "markdown",
   "metadata": {
    "id": "MNY5An-jbZpY"
   },
   "source": [
    "# Predicitons On Test Data"
   ]
  },
  {
   "cell_type": "code",
   "execution_count": null,
   "metadata": {
    "id": "i54SZZQ9anM1"
   },
   "outputs": [],
   "source": [
    "def preprocess_data(df):\n",
    "    \"\"\"\n",
    "    Performs transformations on df and returns transformed df.\n",
    "    \"\"\"\n",
    "    df[\"saleYear\"] = df.saledate.dt.year\n",
    "    df[\"saleMonth\"] = df.saledate.dt.month\n",
    "    df[\"saleDay\"] = df.saledate.dt.day\n",
    "    df[\"saleDayOfWeek\"] = df.saledate.dt.dayofweek\n",
    "    df[\"saleDayOfYear\"] = df.saledate.dt.dayofyear\n",
    "    \n",
    "    df.drop(\"saledate\", axis=1, inplace=True)\n",
    "    \n",
    "    # Fill the numeric rows with median\n",
    "    for label, content in df.items():\n",
    "        if pd.api.types.is_numeric_dtype(content):\n",
    "            if pd.isnull(content).sum():\n",
    "                # Add a binary column which tells us if the data was missing or not\n",
    "                df[label+\"_is_missing\"] = pd.isnull(content)\n",
    "                # Fill missing numeric values with median\n",
    "                df[label] = content.fillna(content.median())\n",
    "    \n",
    "        # Filled categorical missing data and turn categories into numbers\n",
    "        if not pd.api.types.is_numeric_dtype(content):\n",
    "            df[label+\"_is_missing\"] = pd.isnull(content)\n",
    "            # We add +1 to the category code because pandas encodes missing categories as -1\n",
    "            df[label] = pd.Categorical(content).codes+1\n",
    "    \n",
    "    return df"
   ]
  },
  {
   "cell_type": "code",
   "execution_count": null,
   "metadata": {
    "id": "Q1TPTtw9bh4V"
   },
   "outputs": [],
   "source": [
    "df_test = pd.read_csv(\"Test.csv\",\n",
    "                      low_memory=False,\n",
    "                      parse_dates=[\"saledate\"])"
   ]
  },
  {
   "cell_type": "code",
   "execution_count": null,
   "metadata": {
    "colab": {
     "base_uri": "https://localhost:8080/",
     "height": 487
    },
    "id": "9eKUhvLLbpYe",
    "outputId": "de5031b6-f845-496d-9fe6-138b1b402ce5"
   },
   "outputs": [
    {
     "data": {
      "text/html": [
       "\n",
       "  <div id=\"df-39c44b34-f198-4aac-a1e3-d34cfd70fa98\">\n",
       "    <div class=\"colab-df-container\">\n",
       "      <div>\n",
       "<style scoped>\n",
       "    .dataframe tbody tr th:only-of-type {\n",
       "        vertical-align: middle;\n",
       "    }\n",
       "\n",
       "    .dataframe tbody tr th {\n",
       "        vertical-align: top;\n",
       "    }\n",
       "\n",
       "    .dataframe thead th {\n",
       "        text-align: right;\n",
       "    }\n",
       "</style>\n",
       "<table border=\"1\" class=\"dataframe\">\n",
       "  <thead>\n",
       "    <tr style=\"text-align: right;\">\n",
       "      <th></th>\n",
       "      <th>SalesID</th>\n",
       "      <th>MachineID</th>\n",
       "      <th>ModelID</th>\n",
       "      <th>datasource</th>\n",
       "      <th>auctioneerID</th>\n",
       "      <th>YearMade</th>\n",
       "      <th>MachineHoursCurrentMeter</th>\n",
       "      <th>UsageBand</th>\n",
       "      <th>fiModelDesc</th>\n",
       "      <th>fiBaseModel</th>\n",
       "      <th>...</th>\n",
       "      <th>Undercarriage_Pad_Width_is_missing</th>\n",
       "      <th>Stick_Length_is_missing</th>\n",
       "      <th>Thumb_is_missing</th>\n",
       "      <th>Pattern_Changer_is_missing</th>\n",
       "      <th>Grouser_Type_is_missing</th>\n",
       "      <th>Backhoe_Mounting_is_missing</th>\n",
       "      <th>Blade_Type_is_missing</th>\n",
       "      <th>Travel_Controls_is_missing</th>\n",
       "      <th>Differential_Type_is_missing</th>\n",
       "      <th>Steering_Controls_is_missing</th>\n",
       "    </tr>\n",
       "  </thead>\n",
       "  <tbody>\n",
       "    <tr>\n",
       "      <th>0</th>\n",
       "      <td>1227829</td>\n",
       "      <td>1006309</td>\n",
       "      <td>3168</td>\n",
       "      <td>121</td>\n",
       "      <td>3</td>\n",
       "      <td>1999</td>\n",
       "      <td>3688.0</td>\n",
       "      <td>2</td>\n",
       "      <td>499</td>\n",
       "      <td>180</td>\n",
       "      <td>...</td>\n",
       "      <td>True</td>\n",
       "      <td>True</td>\n",
       "      <td>True</td>\n",
       "      <td>True</td>\n",
       "      <td>True</td>\n",
       "      <td>True</td>\n",
       "      <td>True</td>\n",
       "      <td>True</td>\n",
       "      <td>True</td>\n",
       "      <td>True</td>\n",
       "    </tr>\n",
       "    <tr>\n",
       "      <th>1</th>\n",
       "      <td>1227844</td>\n",
       "      <td>1022817</td>\n",
       "      <td>7271</td>\n",
       "      <td>121</td>\n",
       "      <td>3</td>\n",
       "      <td>1000</td>\n",
       "      <td>28555.0</td>\n",
       "      <td>1</td>\n",
       "      <td>831</td>\n",
       "      <td>292</td>\n",
       "      <td>...</td>\n",
       "      <td>True</td>\n",
       "      <td>True</td>\n",
       "      <td>True</td>\n",
       "      <td>True</td>\n",
       "      <td>True</td>\n",
       "      <td>True</td>\n",
       "      <td>True</td>\n",
       "      <td>True</td>\n",
       "      <td>False</td>\n",
       "      <td>False</td>\n",
       "    </tr>\n",
       "    <tr>\n",
       "      <th>2</th>\n",
       "      <td>1227847</td>\n",
       "      <td>1031560</td>\n",
       "      <td>22805</td>\n",
       "      <td>121</td>\n",
       "      <td>3</td>\n",
       "      <td>2004</td>\n",
       "      <td>6038.0</td>\n",
       "      <td>3</td>\n",
       "      <td>1177</td>\n",
       "      <td>404</td>\n",
       "      <td>...</td>\n",
       "      <td>False</td>\n",
       "      <td>False</td>\n",
       "      <td>False</td>\n",
       "      <td>False</td>\n",
       "      <td>False</td>\n",
       "      <td>True</td>\n",
       "      <td>True</td>\n",
       "      <td>True</td>\n",
       "      <td>True</td>\n",
       "      <td>True</td>\n",
       "    </tr>\n",
       "    <tr>\n",
       "      <th>3</th>\n",
       "      <td>1227848</td>\n",
       "      <td>56204</td>\n",
       "      <td>1269</td>\n",
       "      <td>121</td>\n",
       "      <td>3</td>\n",
       "      <td>2006</td>\n",
       "      <td>8940.0</td>\n",
       "      <td>1</td>\n",
       "      <td>287</td>\n",
       "      <td>113</td>\n",
       "      <td>...</td>\n",
       "      <td>False</td>\n",
       "      <td>False</td>\n",
       "      <td>False</td>\n",
       "      <td>False</td>\n",
       "      <td>False</td>\n",
       "      <td>True</td>\n",
       "      <td>True</td>\n",
       "      <td>True</td>\n",
       "      <td>True</td>\n",
       "      <td>True</td>\n",
       "    </tr>\n",
       "    <tr>\n",
       "      <th>4</th>\n",
       "      <td>1227863</td>\n",
       "      <td>1053887</td>\n",
       "      <td>22312</td>\n",
       "      <td>121</td>\n",
       "      <td>3</td>\n",
       "      <td>2005</td>\n",
       "      <td>2286.0</td>\n",
       "      <td>2</td>\n",
       "      <td>566</td>\n",
       "      <td>196</td>\n",
       "      <td>...</td>\n",
       "      <td>True</td>\n",
       "      <td>True</td>\n",
       "      <td>True</td>\n",
       "      <td>True</td>\n",
       "      <td>True</td>\n",
       "      <td>False</td>\n",
       "      <td>False</td>\n",
       "      <td>False</td>\n",
       "      <td>True</td>\n",
       "      <td>True</td>\n",
       "    </tr>\n",
       "    <tr>\n",
       "      <th>...</th>\n",
       "      <td>...</td>\n",
       "      <td>...</td>\n",
       "      <td>...</td>\n",
       "      <td>...</td>\n",
       "      <td>...</td>\n",
       "      <td>...</td>\n",
       "      <td>...</td>\n",
       "      <td>...</td>\n",
       "      <td>...</td>\n",
       "      <td>...</td>\n",
       "      <td>...</td>\n",
       "      <td>...</td>\n",
       "      <td>...</td>\n",
       "      <td>...</td>\n",
       "      <td>...</td>\n",
       "      <td>...</td>\n",
       "      <td>...</td>\n",
       "      <td>...</td>\n",
       "      <td>...</td>\n",
       "      <td>...</td>\n",
       "      <td>...</td>\n",
       "    </tr>\n",
       "    <tr>\n",
       "      <th>12452</th>\n",
       "      <td>6643171</td>\n",
       "      <td>2558317</td>\n",
       "      <td>21450</td>\n",
       "      <td>149</td>\n",
       "      <td>2</td>\n",
       "      <td>2008</td>\n",
       "      <td>3525.0</td>\n",
       "      <td>0</td>\n",
       "      <td>713</td>\n",
       "      <td>235</td>\n",
       "      <td>...</td>\n",
       "      <td>False</td>\n",
       "      <td>False</td>\n",
       "      <td>False</td>\n",
       "      <td>False</td>\n",
       "      <td>False</td>\n",
       "      <td>True</td>\n",
       "      <td>True</td>\n",
       "      <td>True</td>\n",
       "      <td>True</td>\n",
       "      <td>True</td>\n",
       "    </tr>\n",
       "    <tr>\n",
       "      <th>12453</th>\n",
       "      <td>6643173</td>\n",
       "      <td>2558332</td>\n",
       "      <td>21434</td>\n",
       "      <td>149</td>\n",
       "      <td>2</td>\n",
       "      <td>2005</td>\n",
       "      <td>3525.0</td>\n",
       "      <td>0</td>\n",
       "      <td>186</td>\n",
       "      <td>80</td>\n",
       "      <td>...</td>\n",
       "      <td>False</td>\n",
       "      <td>False</td>\n",
       "      <td>False</td>\n",
       "      <td>False</td>\n",
       "      <td>False</td>\n",
       "      <td>True</td>\n",
       "      <td>True</td>\n",
       "      <td>True</td>\n",
       "      <td>True</td>\n",
       "      <td>True</td>\n",
       "    </tr>\n",
       "    <tr>\n",
       "      <th>12454</th>\n",
       "      <td>6643184</td>\n",
       "      <td>2558342</td>\n",
       "      <td>21437</td>\n",
       "      <td>149</td>\n",
       "      <td>2</td>\n",
       "      <td>1000</td>\n",
       "      <td>3525.0</td>\n",
       "      <td>0</td>\n",
       "      <td>325</td>\n",
       "      <td>123</td>\n",
       "      <td>...</td>\n",
       "      <td>False</td>\n",
       "      <td>False</td>\n",
       "      <td>False</td>\n",
       "      <td>False</td>\n",
       "      <td>False</td>\n",
       "      <td>True</td>\n",
       "      <td>True</td>\n",
       "      <td>True</td>\n",
       "      <td>True</td>\n",
       "      <td>True</td>\n",
       "    </tr>\n",
       "    <tr>\n",
       "      <th>12455</th>\n",
       "      <td>6643186</td>\n",
       "      <td>2558343</td>\n",
       "      <td>21437</td>\n",
       "      <td>149</td>\n",
       "      <td>2</td>\n",
       "      <td>2006</td>\n",
       "      <td>3525.0</td>\n",
       "      <td>0</td>\n",
       "      <td>325</td>\n",
       "      <td>123</td>\n",
       "      <td>...</td>\n",
       "      <td>False</td>\n",
       "      <td>False</td>\n",
       "      <td>False</td>\n",
       "      <td>False</td>\n",
       "      <td>False</td>\n",
       "      <td>True</td>\n",
       "      <td>True</td>\n",
       "      <td>True</td>\n",
       "      <td>True</td>\n",
       "      <td>True</td>\n",
       "    </tr>\n",
       "    <tr>\n",
       "      <th>12456</th>\n",
       "      <td>6643196</td>\n",
       "      <td>2558346</td>\n",
       "      <td>21446</td>\n",
       "      <td>149</td>\n",
       "      <td>2</td>\n",
       "      <td>2008</td>\n",
       "      <td>3525.0</td>\n",
       "      <td>0</td>\n",
       "      <td>483</td>\n",
       "      <td>171</td>\n",
       "      <td>...</td>\n",
       "      <td>False</td>\n",
       "      <td>False</td>\n",
       "      <td>False</td>\n",
       "      <td>False</td>\n",
       "      <td>False</td>\n",
       "      <td>True</td>\n",
       "      <td>True</td>\n",
       "      <td>True</td>\n",
       "      <td>True</td>\n",
       "      <td>True</td>\n",
       "    </tr>\n",
       "  </tbody>\n",
       "</table>\n",
       "<p>12457 rows × 101 columns</p>\n",
       "</div>\n",
       "      <button class=\"colab-df-convert\" onclick=\"convertToInteractive('df-39c44b34-f198-4aac-a1e3-d34cfd70fa98')\"\n",
       "              title=\"Convert this dataframe to an interactive table.\"\n",
       "              style=\"display:none;\">\n",
       "        \n",
       "  <svg xmlns=\"http://www.w3.org/2000/svg\" height=\"24px\"viewBox=\"0 0 24 24\"\n",
       "       width=\"24px\">\n",
       "    <path d=\"M0 0h24v24H0V0z\" fill=\"none\"/>\n",
       "    <path d=\"M18.56 5.44l.94 2.06.94-2.06 2.06-.94-2.06-.94-.94-2.06-.94 2.06-2.06.94zm-11 1L8.5 8.5l.94-2.06 2.06-.94-2.06-.94L8.5 2.5l-.94 2.06-2.06.94zm10 10l.94 2.06.94-2.06 2.06-.94-2.06-.94-.94-2.06-.94 2.06-2.06.94z\"/><path d=\"M17.41 7.96l-1.37-1.37c-.4-.4-.92-.59-1.43-.59-.52 0-1.04.2-1.43.59L10.3 9.45l-7.72 7.72c-.78.78-.78 2.05 0 2.83L4 21.41c.39.39.9.59 1.41.59.51 0 1.02-.2 1.41-.59l7.78-7.78 2.81-2.81c.8-.78.8-2.07 0-2.86zM5.41 20L4 18.59l7.72-7.72 1.47 1.35L5.41 20z\"/>\n",
       "  </svg>\n",
       "      </button>\n",
       "      \n",
       "  <style>\n",
       "    .colab-df-container {\n",
       "      display:flex;\n",
       "      flex-wrap:wrap;\n",
       "      gap: 12px;\n",
       "    }\n",
       "\n",
       "    .colab-df-convert {\n",
       "      background-color: #E8F0FE;\n",
       "      border: none;\n",
       "      border-radius: 50%;\n",
       "      cursor: pointer;\n",
       "      display: none;\n",
       "      fill: #1967D2;\n",
       "      height: 32px;\n",
       "      padding: 0 0 0 0;\n",
       "      width: 32px;\n",
       "    }\n",
       "\n",
       "    .colab-df-convert:hover {\n",
       "      background-color: #E2EBFA;\n",
       "      box-shadow: 0px 1px 2px rgba(60, 64, 67, 0.3), 0px 1px 3px 1px rgba(60, 64, 67, 0.15);\n",
       "      fill: #174EA6;\n",
       "    }\n",
       "\n",
       "    [theme=dark] .colab-df-convert {\n",
       "      background-color: #3B4455;\n",
       "      fill: #D2E3FC;\n",
       "    }\n",
       "\n",
       "    [theme=dark] .colab-df-convert:hover {\n",
       "      background-color: #434B5C;\n",
       "      box-shadow: 0px 1px 3px 1px rgba(0, 0, 0, 0.15);\n",
       "      filter: drop-shadow(0px 1px 2px rgba(0, 0, 0, 0.3));\n",
       "      fill: #FFFFFF;\n",
       "    }\n",
       "  </style>\n",
       "\n",
       "      <script>\n",
       "        const buttonEl =\n",
       "          document.querySelector('#df-39c44b34-f198-4aac-a1e3-d34cfd70fa98 button.colab-df-convert');\n",
       "        buttonEl.style.display =\n",
       "          google.colab.kernel.accessAllowed ? 'block' : 'none';\n",
       "\n",
       "        async function convertToInteractive(key) {\n",
       "          const element = document.querySelector('#df-39c44b34-f198-4aac-a1e3-d34cfd70fa98');\n",
       "          const dataTable =\n",
       "            await google.colab.kernel.invokeFunction('convertToInteractive',\n",
       "                                                     [key], {});\n",
       "          if (!dataTable) return;\n",
       "\n",
       "          const docLinkHtml = 'Like what you see? Visit the ' +\n",
       "            '<a target=\"_blank\" href=https://colab.research.google.com/notebooks/data_table.ipynb>data table notebook</a>'\n",
       "            + ' to learn more about interactive tables.';\n",
       "          element.innerHTML = '';\n",
       "          dataTable['output_type'] = 'display_data';\n",
       "          await google.colab.output.renderOutput(dataTable, element);\n",
       "          const docLink = document.createElement('div');\n",
       "          docLink.innerHTML = docLinkHtml;\n",
       "          element.appendChild(docLink);\n",
       "        }\n",
       "      </script>\n",
       "    </div>\n",
       "  </div>\n",
       "  "
      ],
      "text/plain": [
       "       SalesID  MachineID  ModelID  datasource  auctioneerID  YearMade  \\\n",
       "0      1227829    1006309     3168         121             3      1999   \n",
       "1      1227844    1022817     7271         121             3      1000   \n",
       "2      1227847    1031560    22805         121             3      2004   \n",
       "3      1227848      56204     1269         121             3      2006   \n",
       "4      1227863    1053887    22312         121             3      2005   \n",
       "...        ...        ...      ...         ...           ...       ...   \n",
       "12452  6643171    2558317    21450         149             2      2008   \n",
       "12453  6643173    2558332    21434         149             2      2005   \n",
       "12454  6643184    2558342    21437         149             2      1000   \n",
       "12455  6643186    2558343    21437         149             2      2006   \n",
       "12456  6643196    2558346    21446         149             2      2008   \n",
       "\n",
       "       MachineHoursCurrentMeter  UsageBand  fiModelDesc  fiBaseModel  ...  \\\n",
       "0                        3688.0          2          499          180  ...   \n",
       "1                       28555.0          1          831          292  ...   \n",
       "2                        6038.0          3         1177          404  ...   \n",
       "3                        8940.0          1          287          113  ...   \n",
       "4                        2286.0          2          566          196  ...   \n",
       "...                         ...        ...          ...          ...  ...   \n",
       "12452                    3525.0          0          713          235  ...   \n",
       "12453                    3525.0          0          186           80  ...   \n",
       "12454                    3525.0          0          325          123  ...   \n",
       "12455                    3525.0          0          325          123  ...   \n",
       "12456                    3525.0          0          483          171  ...   \n",
       "\n",
       "       Undercarriage_Pad_Width_is_missing  Stick_Length_is_missing  \\\n",
       "0                                    True                     True   \n",
       "1                                    True                     True   \n",
       "2                                   False                    False   \n",
       "3                                   False                    False   \n",
       "4                                    True                     True   \n",
       "...                                   ...                      ...   \n",
       "12452                               False                    False   \n",
       "12453                               False                    False   \n",
       "12454                               False                    False   \n",
       "12455                               False                    False   \n",
       "12456                               False                    False   \n",
       "\n",
       "       Thumb_is_missing  Pattern_Changer_is_missing  Grouser_Type_is_missing  \\\n",
       "0                  True                        True                     True   \n",
       "1                  True                        True                     True   \n",
       "2                 False                       False                    False   \n",
       "3                 False                       False                    False   \n",
       "4                  True                        True                     True   \n",
       "...                 ...                         ...                      ...   \n",
       "12452             False                       False                    False   \n",
       "12453             False                       False                    False   \n",
       "12454             False                       False                    False   \n",
       "12455             False                       False                    False   \n",
       "12456             False                       False                    False   \n",
       "\n",
       "       Backhoe_Mounting_is_missing  Blade_Type_is_missing  \\\n",
       "0                             True                   True   \n",
       "1                             True                   True   \n",
       "2                             True                   True   \n",
       "3                             True                   True   \n",
       "4                            False                  False   \n",
       "...                            ...                    ...   \n",
       "12452                         True                   True   \n",
       "12453                         True                   True   \n",
       "12454                         True                   True   \n",
       "12455                         True                   True   \n",
       "12456                         True                   True   \n",
       "\n",
       "       Travel_Controls_is_missing  Differential_Type_is_missing  \\\n",
       "0                            True                          True   \n",
       "1                            True                         False   \n",
       "2                            True                          True   \n",
       "3                            True                          True   \n",
       "4                           False                          True   \n",
       "...                           ...                           ...   \n",
       "12452                        True                          True   \n",
       "12453                        True                          True   \n",
       "12454                        True                          True   \n",
       "12455                        True                          True   \n",
       "12456                        True                          True   \n",
       "\n",
       "       Steering_Controls_is_missing  \n",
       "0                              True  \n",
       "1                             False  \n",
       "2                              True  \n",
       "3                              True  \n",
       "4                              True  \n",
       "...                             ...  \n",
       "12452                          True  \n",
       "12453                          True  \n",
       "12454                          True  \n",
       "12455                          True  \n",
       "12456                          True  \n",
       "\n",
       "[12457 rows x 101 columns]"
      ]
     },
     "execution_count": 113,
     "metadata": {},
     "output_type": "execute_result"
    }
   ],
   "source": [
    "preprocess_data(df_test)"
   ]
  },
  {
   "cell_type": "code",
   "execution_count": null,
   "metadata": {
    "colab": {
     "base_uri": "https://localhost:8080/"
    },
    "id": "UMtkYOtHbupm",
    "outputId": "22dfbbe8-e488-41b1-bdcc-3d37803f8671"
   },
   "outputs": [
    {
     "data": {
      "text/plain": [
       "{'auctioneerID_is_missing',\n",
       " 'saleday',\n",
       " 'saledayofWeek',\n",
       " 'saledayofyear',\n",
       " 'salemonth'}"
      ]
     },
     "execution_count": 114,
     "metadata": {},
     "output_type": "execute_result"
    }
   ],
   "source": [
    "# We can find how the columns differ using sets\n",
    "set(X_train.columns) - set(df_test.columns)"
   ]
  },
  {
   "cell_type": "code",
   "execution_count": null,
   "metadata": {
    "colab": {
     "base_uri": "https://localhost:8080/",
     "height": 299
    },
    "id": "U4NT5zaYcBR2",
    "outputId": "860ccfd7-3ea0-417c-e516-4fd4cd700e8c"
   },
   "outputs": [
    {
     "data": {
      "text/html": [
       "\n",
       "  <div id=\"df-1bd63a6a-5ff3-43eb-bbe2-faf17ae3aac5\">\n",
       "    <div class=\"colab-df-container\">\n",
       "      <div>\n",
       "<style scoped>\n",
       "    .dataframe tbody tr th:only-of-type {\n",
       "        vertical-align: middle;\n",
       "    }\n",
       "\n",
       "    .dataframe tbody tr th {\n",
       "        vertical-align: top;\n",
       "    }\n",
       "\n",
       "    .dataframe thead th {\n",
       "        text-align: right;\n",
       "    }\n",
       "</style>\n",
       "<table border=\"1\" class=\"dataframe\">\n",
       "  <thead>\n",
       "    <tr style=\"text-align: right;\">\n",
       "      <th></th>\n",
       "      <th>SalesID</th>\n",
       "      <th>MachineID</th>\n",
       "      <th>ModelID</th>\n",
       "      <th>datasource</th>\n",
       "      <th>auctioneerID</th>\n",
       "      <th>YearMade</th>\n",
       "      <th>MachineHoursCurrentMeter</th>\n",
       "      <th>UsageBand</th>\n",
       "      <th>fiModelDesc</th>\n",
       "      <th>fiBaseModel</th>\n",
       "      <th>...</th>\n",
       "      <th>Stick_Length_is_missing</th>\n",
       "      <th>Thumb_is_missing</th>\n",
       "      <th>Pattern_Changer_is_missing</th>\n",
       "      <th>Grouser_Type_is_missing</th>\n",
       "      <th>Backhoe_Mounting_is_missing</th>\n",
       "      <th>Blade_Type_is_missing</th>\n",
       "      <th>Travel_Controls_is_missing</th>\n",
       "      <th>Differential_Type_is_missing</th>\n",
       "      <th>Steering_Controls_is_missing</th>\n",
       "      <th>auctioneerID_is_missing</th>\n",
       "    </tr>\n",
       "  </thead>\n",
       "  <tbody>\n",
       "    <tr>\n",
       "      <th>0</th>\n",
       "      <td>1227829</td>\n",
       "      <td>1006309</td>\n",
       "      <td>3168</td>\n",
       "      <td>121</td>\n",
       "      <td>3</td>\n",
       "      <td>1999</td>\n",
       "      <td>3688.0</td>\n",
       "      <td>2</td>\n",
       "      <td>499</td>\n",
       "      <td>180</td>\n",
       "      <td>...</td>\n",
       "      <td>True</td>\n",
       "      <td>True</td>\n",
       "      <td>True</td>\n",
       "      <td>True</td>\n",
       "      <td>True</td>\n",
       "      <td>True</td>\n",
       "      <td>True</td>\n",
       "      <td>True</td>\n",
       "      <td>True</td>\n",
       "      <td>False</td>\n",
       "    </tr>\n",
       "    <tr>\n",
       "      <th>1</th>\n",
       "      <td>1227844</td>\n",
       "      <td>1022817</td>\n",
       "      <td>7271</td>\n",
       "      <td>121</td>\n",
       "      <td>3</td>\n",
       "      <td>1000</td>\n",
       "      <td>28555.0</td>\n",
       "      <td>1</td>\n",
       "      <td>831</td>\n",
       "      <td>292</td>\n",
       "      <td>...</td>\n",
       "      <td>True</td>\n",
       "      <td>True</td>\n",
       "      <td>True</td>\n",
       "      <td>True</td>\n",
       "      <td>True</td>\n",
       "      <td>True</td>\n",
       "      <td>True</td>\n",
       "      <td>False</td>\n",
       "      <td>False</td>\n",
       "      <td>False</td>\n",
       "    </tr>\n",
       "    <tr>\n",
       "      <th>2</th>\n",
       "      <td>1227847</td>\n",
       "      <td>1031560</td>\n",
       "      <td>22805</td>\n",
       "      <td>121</td>\n",
       "      <td>3</td>\n",
       "      <td>2004</td>\n",
       "      <td>6038.0</td>\n",
       "      <td>3</td>\n",
       "      <td>1177</td>\n",
       "      <td>404</td>\n",
       "      <td>...</td>\n",
       "      <td>False</td>\n",
       "      <td>False</td>\n",
       "      <td>False</td>\n",
       "      <td>False</td>\n",
       "      <td>True</td>\n",
       "      <td>True</td>\n",
       "      <td>True</td>\n",
       "      <td>True</td>\n",
       "      <td>True</td>\n",
       "      <td>False</td>\n",
       "    </tr>\n",
       "    <tr>\n",
       "      <th>3</th>\n",
       "      <td>1227848</td>\n",
       "      <td>56204</td>\n",
       "      <td>1269</td>\n",
       "      <td>121</td>\n",
       "      <td>3</td>\n",
       "      <td>2006</td>\n",
       "      <td>8940.0</td>\n",
       "      <td>1</td>\n",
       "      <td>287</td>\n",
       "      <td>113</td>\n",
       "      <td>...</td>\n",
       "      <td>False</td>\n",
       "      <td>False</td>\n",
       "      <td>False</td>\n",
       "      <td>False</td>\n",
       "      <td>True</td>\n",
       "      <td>True</td>\n",
       "      <td>True</td>\n",
       "      <td>True</td>\n",
       "      <td>True</td>\n",
       "      <td>False</td>\n",
       "    </tr>\n",
       "    <tr>\n",
       "      <th>4</th>\n",
       "      <td>1227863</td>\n",
       "      <td>1053887</td>\n",
       "      <td>22312</td>\n",
       "      <td>121</td>\n",
       "      <td>3</td>\n",
       "      <td>2005</td>\n",
       "      <td>2286.0</td>\n",
       "      <td>2</td>\n",
       "      <td>566</td>\n",
       "      <td>196</td>\n",
       "      <td>...</td>\n",
       "      <td>True</td>\n",
       "      <td>True</td>\n",
       "      <td>True</td>\n",
       "      <td>True</td>\n",
       "      <td>False</td>\n",
       "      <td>False</td>\n",
       "      <td>False</td>\n",
       "      <td>True</td>\n",
       "      <td>True</td>\n",
       "      <td>False</td>\n",
       "    </tr>\n",
       "  </tbody>\n",
       "</table>\n",
       "<p>5 rows × 102 columns</p>\n",
       "</div>\n",
       "      <button class=\"colab-df-convert\" onclick=\"convertToInteractive('df-1bd63a6a-5ff3-43eb-bbe2-faf17ae3aac5')\"\n",
       "              title=\"Convert this dataframe to an interactive table.\"\n",
       "              style=\"display:none;\">\n",
       "        \n",
       "  <svg xmlns=\"http://www.w3.org/2000/svg\" height=\"24px\"viewBox=\"0 0 24 24\"\n",
       "       width=\"24px\">\n",
       "    <path d=\"M0 0h24v24H0V0z\" fill=\"none\"/>\n",
       "    <path d=\"M18.56 5.44l.94 2.06.94-2.06 2.06-.94-2.06-.94-.94-2.06-.94 2.06-2.06.94zm-11 1L8.5 8.5l.94-2.06 2.06-.94-2.06-.94L8.5 2.5l-.94 2.06-2.06.94zm10 10l.94 2.06.94-2.06 2.06-.94-2.06-.94-.94-2.06-.94 2.06-2.06.94z\"/><path d=\"M17.41 7.96l-1.37-1.37c-.4-.4-.92-.59-1.43-.59-.52 0-1.04.2-1.43.59L10.3 9.45l-7.72 7.72c-.78.78-.78 2.05 0 2.83L4 21.41c.39.39.9.59 1.41.59.51 0 1.02-.2 1.41-.59l7.78-7.78 2.81-2.81c.8-.78.8-2.07 0-2.86zM5.41 20L4 18.59l7.72-7.72 1.47 1.35L5.41 20z\"/>\n",
       "  </svg>\n",
       "      </button>\n",
       "      \n",
       "  <style>\n",
       "    .colab-df-container {\n",
       "      display:flex;\n",
       "      flex-wrap:wrap;\n",
       "      gap: 12px;\n",
       "    }\n",
       "\n",
       "    .colab-df-convert {\n",
       "      background-color: #E8F0FE;\n",
       "      border: none;\n",
       "      border-radius: 50%;\n",
       "      cursor: pointer;\n",
       "      display: none;\n",
       "      fill: #1967D2;\n",
       "      height: 32px;\n",
       "      padding: 0 0 0 0;\n",
       "      width: 32px;\n",
       "    }\n",
       "\n",
       "    .colab-df-convert:hover {\n",
       "      background-color: #E2EBFA;\n",
       "      box-shadow: 0px 1px 2px rgba(60, 64, 67, 0.3), 0px 1px 3px 1px rgba(60, 64, 67, 0.15);\n",
       "      fill: #174EA6;\n",
       "    }\n",
       "\n",
       "    [theme=dark] .colab-df-convert {\n",
       "      background-color: #3B4455;\n",
       "      fill: #D2E3FC;\n",
       "    }\n",
       "\n",
       "    [theme=dark] .colab-df-convert:hover {\n",
       "      background-color: #434B5C;\n",
       "      box-shadow: 0px 1px 3px 1px rgba(0, 0, 0, 0.15);\n",
       "      filter: drop-shadow(0px 1px 2px rgba(0, 0, 0, 0.3));\n",
       "      fill: #FFFFFF;\n",
       "    }\n",
       "  </style>\n",
       "\n",
       "      <script>\n",
       "        const buttonEl =\n",
       "          document.querySelector('#df-1bd63a6a-5ff3-43eb-bbe2-faf17ae3aac5 button.colab-df-convert');\n",
       "        buttonEl.style.display =\n",
       "          google.colab.kernel.accessAllowed ? 'block' : 'none';\n",
       "\n",
       "        async function convertToInteractive(key) {\n",
       "          const element = document.querySelector('#df-1bd63a6a-5ff3-43eb-bbe2-faf17ae3aac5');\n",
       "          const dataTable =\n",
       "            await google.colab.kernel.invokeFunction('convertToInteractive',\n",
       "                                                     [key], {});\n",
       "          if (!dataTable) return;\n",
       "\n",
       "          const docLinkHtml = 'Like what you see? Visit the ' +\n",
       "            '<a target=\"_blank\" href=https://colab.research.google.com/notebooks/data_table.ipynb>data table notebook</a>'\n",
       "            + ' to learn more about interactive tables.';\n",
       "          element.innerHTML = '';\n",
       "          dataTable['output_type'] = 'display_data';\n",
       "          await google.colab.output.renderOutput(dataTable, element);\n",
       "          const docLink = document.createElement('div');\n",
       "          docLink.innerHTML = docLinkHtml;\n",
       "          element.appendChild(docLink);\n",
       "        }\n",
       "      </script>\n",
       "    </div>\n",
       "  </div>\n",
       "  "
      ],
      "text/plain": [
       "   SalesID  MachineID  ModelID  datasource  auctioneerID  YearMade  \\\n",
       "0  1227829    1006309     3168         121             3      1999   \n",
       "1  1227844    1022817     7271         121             3      1000   \n",
       "2  1227847    1031560    22805         121             3      2004   \n",
       "3  1227848      56204     1269         121             3      2006   \n",
       "4  1227863    1053887    22312         121             3      2005   \n",
       "\n",
       "   MachineHoursCurrentMeter  UsageBand  fiModelDesc  fiBaseModel  ...  \\\n",
       "0                    3688.0          2          499          180  ...   \n",
       "1                   28555.0          1          831          292  ...   \n",
       "2                    6038.0          3         1177          404  ...   \n",
       "3                    8940.0          1          287          113  ...   \n",
       "4                    2286.0          2          566          196  ...   \n",
       "\n",
       "   Stick_Length_is_missing  Thumb_is_missing  Pattern_Changer_is_missing  \\\n",
       "0                     True              True                        True   \n",
       "1                     True              True                        True   \n",
       "2                    False             False                       False   \n",
       "3                    False             False                       False   \n",
       "4                     True              True                        True   \n",
       "\n",
       "   Grouser_Type_is_missing  Backhoe_Mounting_is_missing  \\\n",
       "0                     True                         True   \n",
       "1                     True                         True   \n",
       "2                    False                         True   \n",
       "3                    False                         True   \n",
       "4                     True                        False   \n",
       "\n",
       "   Blade_Type_is_missing  Travel_Controls_is_missing  \\\n",
       "0                   True                        True   \n",
       "1                   True                        True   \n",
       "2                   True                        True   \n",
       "3                   True                        True   \n",
       "4                  False                       False   \n",
       "\n",
       "   Differential_Type_is_missing  Steering_Controls_is_missing  \\\n",
       "0                          True                          True   \n",
       "1                         False                         False   \n",
       "2                          True                          True   \n",
       "3                          True                          True   \n",
       "4                          True                          True   \n",
       "\n",
       "   auctioneerID_is_missing  \n",
       "0                    False  \n",
       "1                    False  \n",
       "2                    False  \n",
       "3                    False  \n",
       "4                    False  \n",
       "\n",
       "[5 rows x 102 columns]"
      ]
     },
     "execution_count": 115,
     "metadata": {},
     "output_type": "execute_result"
    }
   ],
   "source": [
    "df_test[\"auctioneerID_is_missing\"] = False\n",
    "df_test.head()"
   ]
  },
  {
   "cell_type": "code",
   "execution_count": null,
   "metadata": {
    "colab": {
     "base_uri": "https://localhost:8080/"
    },
    "id": "uD1PYJ5ZcPgm",
    "outputId": "d58bc960-6fb0-4e69-a2ba-153393dd9dd2"
   },
   "outputs": [
    {
     "name": "stderr",
     "output_type": "stream",
     "text": [
      "/usr/local/lib/python3.7/dist-packages/sklearn/base.py:493: FutureWarning: The feature names should match those that were passed during fit. Starting version 1.2, an error will be raised.\n",
      "Feature names unseen at fit time:\n",
      "- saleDay\n",
      "- saleDayOfWeek\n",
      "- saleDayOfYear\n",
      "- saleMonth\n",
      "Feature names seen at fit time, yet now missing:\n",
      "- saleday\n",
      "- saledayofWeek\n",
      "- saledayofyear\n",
      "- salemonth\n",
      "\n",
      "  warnings.warn(message, FutureWarning)\n"
     ]
    }
   ],
   "source": [
    "test_preds = ideal_model.predict(df_test)"
   ]
  },
  {
   "cell_type": "code",
   "execution_count": null,
   "metadata": {
    "colab": {
     "base_uri": "https://localhost:8080/"
    },
    "id": "DMDXVRidcUv-",
    "outputId": "ed09d7ca-1e12-4636-fbd3-a8479b3a6f2e"
   },
   "outputs": [
    {
     "data": {
      "text/plain": [
       "array([20177.15678311, 19980.41186246, 45544.25470924, ...,\n",
       "       16027.2349918 , 22542.35353434, 31300.87935703])"
      ]
     },
     "execution_count": 118,
     "metadata": {},
     "output_type": "execute_result"
    }
   ],
   "source": [
    "test_preds"
   ]
  },
  {
   "cell_type": "code",
   "execution_count": null,
   "metadata": {
    "colab": {
     "base_uri": "https://localhost:8080/",
     "height": 423
    },
    "id": "1oHtNg30ckce",
    "outputId": "0bc152a5-caa5-498d-b0bf-907e55f078c7"
   },
   "outputs": [
    {
     "data": {
      "text/html": [
       "\n",
       "  <div id=\"df-0b9e732e-06c0-47a9-ba6f-cd573203d81c\">\n",
       "    <div class=\"colab-df-container\">\n",
       "      <div>\n",
       "<style scoped>\n",
       "    .dataframe tbody tr th:only-of-type {\n",
       "        vertical-align: middle;\n",
       "    }\n",
       "\n",
       "    .dataframe tbody tr th {\n",
       "        vertical-align: top;\n",
       "    }\n",
       "\n",
       "    .dataframe thead th {\n",
       "        text-align: right;\n",
       "    }\n",
       "</style>\n",
       "<table border=\"1\" class=\"dataframe\">\n",
       "  <thead>\n",
       "    <tr style=\"text-align: right;\">\n",
       "      <th></th>\n",
       "      <th>SalesID</th>\n",
       "      <th>SalesPrice</th>\n",
       "    </tr>\n",
       "  </thead>\n",
       "  <tbody>\n",
       "    <tr>\n",
       "      <th>0</th>\n",
       "      <td>1227829</td>\n",
       "      <td>20177.156783</td>\n",
       "    </tr>\n",
       "    <tr>\n",
       "      <th>1</th>\n",
       "      <td>1227844</td>\n",
       "      <td>19980.411862</td>\n",
       "    </tr>\n",
       "    <tr>\n",
       "      <th>2</th>\n",
       "      <td>1227847</td>\n",
       "      <td>45544.254709</td>\n",
       "    </tr>\n",
       "    <tr>\n",
       "      <th>3</th>\n",
       "      <td>1227848</td>\n",
       "      <td>63177.070972</td>\n",
       "    </tr>\n",
       "    <tr>\n",
       "      <th>4</th>\n",
       "      <td>1227863</td>\n",
       "      <td>49897.961978</td>\n",
       "    </tr>\n",
       "    <tr>\n",
       "      <th>...</th>\n",
       "      <td>...</td>\n",
       "      <td>...</td>\n",
       "    </tr>\n",
       "    <tr>\n",
       "      <th>12452</th>\n",
       "      <td>6643171</td>\n",
       "      <td>43260.214094</td>\n",
       "    </tr>\n",
       "    <tr>\n",
       "      <th>12453</th>\n",
       "      <td>6643173</td>\n",
       "      <td>21427.967453</td>\n",
       "    </tr>\n",
       "    <tr>\n",
       "      <th>12454</th>\n",
       "      <td>6643184</td>\n",
       "      <td>16027.234992</td>\n",
       "    </tr>\n",
       "    <tr>\n",
       "      <th>12455</th>\n",
       "      <td>6643186</td>\n",
       "      <td>22542.353534</td>\n",
       "    </tr>\n",
       "    <tr>\n",
       "      <th>12456</th>\n",
       "      <td>6643196</td>\n",
       "      <td>31300.879357</td>\n",
       "    </tr>\n",
       "  </tbody>\n",
       "</table>\n",
       "<p>12457 rows × 2 columns</p>\n",
       "</div>\n",
       "      <button class=\"colab-df-convert\" onclick=\"convertToInteractive('df-0b9e732e-06c0-47a9-ba6f-cd573203d81c')\"\n",
       "              title=\"Convert this dataframe to an interactive table.\"\n",
       "              style=\"display:none;\">\n",
       "        \n",
       "  <svg xmlns=\"http://www.w3.org/2000/svg\" height=\"24px\"viewBox=\"0 0 24 24\"\n",
       "       width=\"24px\">\n",
       "    <path d=\"M0 0h24v24H0V0z\" fill=\"none\"/>\n",
       "    <path d=\"M18.56 5.44l.94 2.06.94-2.06 2.06-.94-2.06-.94-.94-2.06-.94 2.06-2.06.94zm-11 1L8.5 8.5l.94-2.06 2.06-.94-2.06-.94L8.5 2.5l-.94 2.06-2.06.94zm10 10l.94 2.06.94-2.06 2.06-.94-2.06-.94-.94-2.06-.94 2.06-2.06.94z\"/><path d=\"M17.41 7.96l-1.37-1.37c-.4-.4-.92-.59-1.43-.59-.52 0-1.04.2-1.43.59L10.3 9.45l-7.72 7.72c-.78.78-.78 2.05 0 2.83L4 21.41c.39.39.9.59 1.41.59.51 0 1.02-.2 1.41-.59l7.78-7.78 2.81-2.81c.8-.78.8-2.07 0-2.86zM5.41 20L4 18.59l7.72-7.72 1.47 1.35L5.41 20z\"/>\n",
       "  </svg>\n",
       "      </button>\n",
       "      \n",
       "  <style>\n",
       "    .colab-df-container {\n",
       "      display:flex;\n",
       "      flex-wrap:wrap;\n",
       "      gap: 12px;\n",
       "    }\n",
       "\n",
       "    .colab-df-convert {\n",
       "      background-color: #E8F0FE;\n",
       "      border: none;\n",
       "      border-radius: 50%;\n",
       "      cursor: pointer;\n",
       "      display: none;\n",
       "      fill: #1967D2;\n",
       "      height: 32px;\n",
       "      padding: 0 0 0 0;\n",
       "      width: 32px;\n",
       "    }\n",
       "\n",
       "    .colab-df-convert:hover {\n",
       "      background-color: #E2EBFA;\n",
       "      box-shadow: 0px 1px 2px rgba(60, 64, 67, 0.3), 0px 1px 3px 1px rgba(60, 64, 67, 0.15);\n",
       "      fill: #174EA6;\n",
       "    }\n",
       "\n",
       "    [theme=dark] .colab-df-convert {\n",
       "      background-color: #3B4455;\n",
       "      fill: #D2E3FC;\n",
       "    }\n",
       "\n",
       "    [theme=dark] .colab-df-convert:hover {\n",
       "      background-color: #434B5C;\n",
       "      box-shadow: 0px 1px 3px 1px rgba(0, 0, 0, 0.15);\n",
       "      filter: drop-shadow(0px 1px 2px rgba(0, 0, 0, 0.3));\n",
       "      fill: #FFFFFF;\n",
       "    }\n",
       "  </style>\n",
       "\n",
       "      <script>\n",
       "        const buttonEl =\n",
       "          document.querySelector('#df-0b9e732e-06c0-47a9-ba6f-cd573203d81c button.colab-df-convert');\n",
       "        buttonEl.style.display =\n",
       "          google.colab.kernel.accessAllowed ? 'block' : 'none';\n",
       "\n",
       "        async function convertToInteractive(key) {\n",
       "          const element = document.querySelector('#df-0b9e732e-06c0-47a9-ba6f-cd573203d81c');\n",
       "          const dataTable =\n",
       "            await google.colab.kernel.invokeFunction('convertToInteractive',\n",
       "                                                     [key], {});\n",
       "          if (!dataTable) return;\n",
       "\n",
       "          const docLinkHtml = 'Like what you see? Visit the ' +\n",
       "            '<a target=\"_blank\" href=https://colab.research.google.com/notebooks/data_table.ipynb>data table notebook</a>'\n",
       "            + ' to learn more about interactive tables.';\n",
       "          element.innerHTML = '';\n",
       "          dataTable['output_type'] = 'display_data';\n",
       "          await google.colab.output.renderOutput(dataTable, element);\n",
       "          const docLink = document.createElement('div');\n",
       "          docLink.innerHTML = docLinkHtml;\n",
       "          element.appendChild(docLink);\n",
       "        }\n",
       "      </script>\n",
       "    </div>\n",
       "  </div>\n",
       "  "
      ],
      "text/plain": [
       "       SalesID    SalesPrice\n",
       "0      1227829  20177.156783\n",
       "1      1227844  19980.411862\n",
       "2      1227847  45544.254709\n",
       "3      1227848  63177.070972\n",
       "4      1227863  49897.961978\n",
       "...        ...           ...\n",
       "12452  6643171  43260.214094\n",
       "12453  6643173  21427.967453\n",
       "12454  6643184  16027.234992\n",
       "12455  6643186  22542.353534\n",
       "12456  6643196  31300.879357\n",
       "\n",
       "[12457 rows x 2 columns]"
      ]
     },
     "execution_count": 119,
     "metadata": {},
     "output_type": "execute_result"
    }
   ],
   "source": [
    "df_preds = pd.DataFrame()\n",
    "df_preds[\"SalesID\"] = df_test[\"SalesID\"]\n",
    "df_preds[\"SalesPrice\"] = test_preds\n",
    "df_preds"
   ]
  },
  {
   "cell_type": "code",
   "execution_count": null,
   "metadata": {
    "id": "aHUmJAEocoQW"
   },
   "outputs": [],
   "source": [
    "def plot_features(columns, importances, n=20):\n",
    "    df = (pd.DataFrame({\"features\": columns,\n",
    "                        \"feature_importances\": importances})\n",
    "          .sort_values(\"feature_importances\", ascending=False)\n",
    "          .reset_index(drop=True))\n",
    "\n",
    "    fig, ax = plt.subplots()\n",
    "    ax.barh(df[\"features\"][:n], df[\"feature_importances\"][:20])\n",
    "    ax.set_ylabel(\"Features\")\n",
    "    ax.set_xlabel(\"Feature importance\")\n",
    "    ax.invert_yaxis()"
   ]
  },
  {
   "cell_type": "code",
   "execution_count": null,
   "metadata": {
    "colab": {
     "base_uri": "https://localhost:8080/",
     "height": 279
    },
    "id": "7yIVKGgicyym",
    "outputId": "6e70d811-fe07-444f-8faa-22a1fd5afd00"
   },
   "outputs": [
    {
     "data": {
      "image/png": "[encoded data removed]",
      "text/plain": [
       "<Figure size 432x288 with 1 Axes>"
      ]
     },
     "metadata": {
      "needs_background": "light"
     },
     "output_type": "display_data"
    }
   ],
   "source": [
    "plot_features(X_train.columns, ideal_model.feature_importances_)"
   ]
  },
  {
   "cell_type": "markdown",
   "metadata": {
    "id": "f1c73_FKdDdj"
   },
   "source": [
    "# That's all the project is DONE..."
   ]
  }
 ],
 "metadata": {
  "accelerator": "GPU",
  "colab": {
   "collapsed_sections": [],
   "name": "Bulldozers future price prediction.ipynb",
   "provenance": []
  },
  "kernelspec": {
   "display_name": "Python 3 (ipykernel)",
   "language": "python",
   "name": "python3"
  },
  "language_info": {
   "codemirror_mode": {
    "name": "ipython",
    "version": 3
   },
   "file_extension": ".py",
   "mimetype": "text/x-python",
   "name": "python",
   "nbconvert_exporter": "python",
   "pygments_lexer": "ipython3",
   "version": "3.10.1"
  }
 },
 "nbformat": 4,
 "nbformat_minor": 1
}
